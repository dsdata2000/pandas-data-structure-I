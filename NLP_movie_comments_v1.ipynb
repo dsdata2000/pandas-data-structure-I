{
 "cells": [
  {
   "cell_type": "code",
   "execution_count": 233,
   "id": "97477c48",
   "metadata": {},
   "outputs": [],
   "source": [
    "import pandas as pd\n",
    "import numpy as np\n",
    "from numpy.random import seed\n",
    "\n",
    "import warnings\n",
    "warnings.filterwarnings(\"ignore\")"
   ]
  },
  {
   "cell_type": "code",
   "execution_count": 234,
   "id": "9f329010",
   "metadata": {},
   "outputs": [],
   "source": [
    "seed(100)"
   ]
  },
  {
   "cell_type": "code",
   "execution_count": 235,
   "id": "0e69257e",
   "metadata": {},
   "outputs": [
    {
     "data": {
      "text/plain": [
       "(27631, 8)"
      ]
     },
     "execution_count": 235,
     "metadata": {},
     "output_type": "execute_result"
    }
   ],
   "source": [
    "df = pd.read_csv(\"./DATA/critics.csv\")\n",
    "df.shape"
   ]
  },
  {
   "cell_type": "code",
   "execution_count": 236,
   "id": "46d39fd7",
   "metadata": {},
   "outputs": [],
   "source": [
    "n = len(df)\n",
    "n1 = 7000\n",
    "x = list(np.arange(n))\n",
    "idx = list(np.random.choice(x,n1))"
   ]
  },
  {
   "cell_type": "code",
   "execution_count": 237,
   "id": "77a97bcf",
   "metadata": {},
   "outputs": [],
   "source": [
    "from collections import Counter"
   ]
  },
  {
   "cell_type": "code",
   "execution_count": 238,
   "id": "25dca688",
   "metadata": {},
   "outputs": [
    {
     "data": {
      "text/plain": [
       "collections.Counter"
      ]
     },
     "execution_count": 238,
     "metadata": {},
     "output_type": "execute_result"
    }
   ],
   "source": [
    "c = Counter(idx)\n",
    "type(c)"
   ]
  },
  {
   "cell_type": "code",
   "execution_count": 239,
   "id": "56ccc865",
   "metadata": {},
   "outputs": [
    {
     "data": {
      "text/plain": [
       "[(22788, 4), (26223, 4), (16273, 4), (18552, 4), (14821, 4)]"
      ]
     },
     "execution_count": 239,
     "metadata": {},
     "output_type": "execute_result"
    }
   ],
   "source": [
    "c.most_common()[0:5]"
   ]
  },
  {
   "cell_type": "code",
   "execution_count": 240,
   "id": "7e2a47a5",
   "metadata": {},
   "outputs": [
    {
     "data": {
      "text/plain": [
       "(22788, 4)"
      ]
     },
     "execution_count": 240,
     "metadata": {},
     "output_type": "execute_result"
    }
   ],
   "source": [
    "c.most_common()[0]"
   ]
  },
  {
   "cell_type": "code",
   "execution_count": 241,
   "id": "fe6b9667",
   "metadata": {},
   "outputs": [
    {
     "data": {
      "text/plain": [
       "[5640, 23320, 14147, 24423, 12119]"
      ]
     },
     "execution_count": 241,
     "metadata": {},
     "output_type": "execute_result"
    }
   ],
   "source": [
    "cl = list(c)\n",
    "cl[0:5]"
   ]
  },
  {
   "cell_type": "code",
   "execution_count": 242,
   "id": "f50a1bc7",
   "metadata": {},
   "outputs": [
    {
     "data": {
      "text/plain": [
       "(6210,)"
      ]
     },
     "execution_count": 242,
     "metadata": {},
     "output_type": "execute_result"
    }
   ],
   "source": [
    "np.shape(cl)"
   ]
  },
  {
   "cell_type": "code",
   "execution_count": 243,
   "id": "d6f7fee3",
   "metadata": {},
   "outputs": [
    {
     "data": {
      "text/plain": [
       "(6210,)"
      ]
     },
     "execution_count": 243,
     "metadata": {},
     "output_type": "execute_result"
    }
   ],
   "source": [
    "clu = np.unique(cl)\n",
    "np.shape(clu)"
   ]
  },
  {
   "cell_type": "code",
   "execution_count": null,
   "id": "e849aa12",
   "metadata": {},
   "outputs": [],
   "source": []
  },
  {
   "cell_type": "code",
   "execution_count": 244,
   "id": "0309dfcb",
   "metadata": {},
   "outputs": [
    {
     "data": {
      "text/plain": [
       "(6210, 8)"
      ]
     },
     "execution_count": 244,
     "metadata": {},
     "output_type": "execute_result"
    }
   ],
   "source": [
    "df = df.loc[cl, :]\n",
    "df.shape"
   ]
  },
  {
   "cell_type": "code",
   "execution_count": 245,
   "id": "6920726b",
   "metadata": {},
   "outputs": [
    {
     "data": {
      "text/html": [
       "<div>\n",
       "<style scoped>\n",
       "    .dataframe tbody tr th:only-of-type {\n",
       "        vertical-align: middle;\n",
       "    }\n",
       "\n",
       "    .dataframe tbody tr th {\n",
       "        vertical-align: top;\n",
       "    }\n",
       "\n",
       "    .dataframe thead th {\n",
       "        text-align: right;\n",
       "    }\n",
       "</style>\n",
       "<table border=\"1\" class=\"dataframe\">\n",
       "  <thead>\n",
       "    <tr style=\"text-align: right;\">\n",
       "      <th></th>\n",
       "      <th>critic</th>\n",
       "      <th>fresh</th>\n",
       "      <th>imdb</th>\n",
       "      <th>publication</th>\n",
       "      <th>quote</th>\n",
       "      <th>review_date</th>\n",
       "      <th>rtid</th>\n",
       "      <th>title</th>\n",
       "    </tr>\n",
       "  </thead>\n",
       "  <tbody>\n",
       "    <tr>\n",
       "      <th>5640</th>\n",
       "      <td>James Berardinelli</td>\n",
       "      <td>fresh</td>\n",
       "      <td>107225</td>\n",
       "      <td>ReelViews</td>\n",
       "      <td>NaN</td>\n",
       "      <td>2000-01-01</td>\n",
       "      <td>13478</td>\n",
       "      <td>Io speriamo che me la cavo</td>\n",
       "    </tr>\n",
       "    <tr>\n",
       "      <th>23320</th>\n",
       "      <td>Roger Ebert</td>\n",
       "      <td>fresh</td>\n",
       "      <td>107798</td>\n",
       "      <td>Chicago Sun-Times</td>\n",
       "      <td>A clever device to take your mind off your pro...</td>\n",
       "      <td>2000-01-01</td>\n",
       "      <td>10452</td>\n",
       "      <td>The Pelican Brief</td>\n",
       "    </tr>\n",
       "    <tr>\n",
       "      <th>14147</th>\n",
       "      <td>NaN</td>\n",
       "      <td>none</td>\n",
       "      <td>118901</td>\n",
       "      <td>Washington Post</td>\n",
       "      <td>NaN</td>\n",
       "      <td>2007-08-18</td>\n",
       "      <td>15672</td>\n",
       "      <td>Critical Care</td>\n",
       "    </tr>\n",
       "    <tr>\n",
       "      <th>24423</th>\n",
       "      <td>David Jenkins</td>\n",
       "      <td>fresh</td>\n",
       "      <td>77405</td>\n",
       "      <td>Time Out</td>\n",
       "      <td>Visually and thematically, it's still one of t...</td>\n",
       "      <td>2011-08-31</td>\n",
       "      <td>10859</td>\n",
       "      <td>Days of Heaven</td>\n",
       "    </tr>\n",
       "    <tr>\n",
       "      <th>12119</th>\n",
       "      <td>James Berardinelli</td>\n",
       "      <td>rotten</td>\n",
       "      <td>118750</td>\n",
       "      <td>ReelViews</td>\n",
       "      <td>NaN</td>\n",
       "      <td>2000-01-01</td>\n",
       "      <td>15333</td>\n",
       "      <td>Booty Call</td>\n",
       "    </tr>\n",
       "  </tbody>\n",
       "</table>\n",
       "</div>"
      ],
      "text/plain": [
       "                   critic   fresh    imdb        publication  \\\n",
       "5640   James Berardinelli   fresh  107225          ReelViews   \n",
       "23320         Roger Ebert   fresh  107798  Chicago Sun-Times   \n",
       "14147                 NaN    none  118901    Washington Post   \n",
       "24423       David Jenkins   fresh   77405           Time Out   \n",
       "12119  James Berardinelli  rotten  118750          ReelViews   \n",
       "\n",
       "                                                   quote review_date   rtid  \\\n",
       "5640                                                 NaN  2000-01-01  13478   \n",
       "23320  A clever device to take your mind off your pro...  2000-01-01  10452   \n",
       "14147                                                NaN  2007-08-18  15672   \n",
       "24423  Visually and thematically, it's still one of t...  2011-08-31  10859   \n",
       "12119                                                NaN  2000-01-01  15333   \n",
       "\n",
       "                            title  \n",
       "5640   Io speriamo che me la cavo  \n",
       "23320           The Pelican Brief  \n",
       "14147               Critical Care  \n",
       "24423              Days of Heaven  \n",
       "12119                  Booty Call  "
      ]
     },
     "execution_count": 245,
     "metadata": {},
     "output_type": "execute_result"
    }
   ],
   "source": [
    "df.head()"
   ]
  },
  {
   "cell_type": "code",
   "execution_count": 246,
   "id": "4e9b30a6",
   "metadata": {},
   "outputs": [
    {
     "data": {
      "text/plain": [
       "['critic',\n",
       " 'fresh',\n",
       " 'imdb',\n",
       " 'publication',\n",
       " 'quote',\n",
       " 'review_date',\n",
       " 'rtid',\n",
       " 'title']"
      ]
     },
     "execution_count": 246,
     "metadata": {},
     "output_type": "execute_result"
    }
   ],
   "source": [
    "cols = df.columns.tolist()\n",
    "cols"
   ]
  },
  {
   "cell_type": "code",
   "execution_count": 247,
   "id": "610faf58",
   "metadata": {},
   "outputs": [
    {
     "data": {
      "text/plain": [
       "(6210, 2)"
      ]
     },
     "execution_count": 247,
     "metadata": {},
     "output_type": "execute_result"
    }
   ],
   "source": [
    "cols1 = ['quote', 'fresh']\n",
    "df = df[cols1]\n",
    "df.shape"
   ]
  },
  {
   "cell_type": "code",
   "execution_count": null,
   "id": "45518aa1",
   "metadata": {},
   "outputs": [],
   "source": []
  },
  {
   "cell_type": "code",
   "execution_count": 248,
   "id": "a3ce9be1",
   "metadata": {},
   "outputs": [
    {
     "data": {
      "text/plain": [
       "fresh     2765\n",
       "rotten    1836\n",
       "none      1609\n",
       "Name: fresh, dtype: int64"
      ]
     },
     "execution_count": 248,
     "metadata": {},
     "output_type": "execute_result"
    }
   ],
   "source": [
    "df.fresh.value_counts()"
   ]
  },
  {
   "cell_type": "code",
   "execution_count": 249,
   "id": "08ece98a",
   "metadata": {},
   "outputs": [
    {
     "data": {
      "text/plain": [
       "(4601, 2)"
      ]
     },
     "execution_count": 249,
     "metadata": {},
     "output_type": "execute_result"
    }
   ],
   "source": [
    "df = df[ ~ (df[\"fresh\"]==\"none\") ]\n",
    "df.shape"
   ]
  },
  {
   "cell_type": "markdown",
   "id": "ab70cc6d",
   "metadata": {},
   "source": [
    "## from 27.6k -> 20.3k"
   ]
  },
  {
   "cell_type": "code",
   "execution_count": 250,
   "id": "72bba914",
   "metadata": {},
   "outputs": [
    {
     "data": {
      "text/plain": [
       "False    3532\n",
       "True     1069\n",
       "Name: quote, dtype: int64"
      ]
     },
     "execution_count": 250,
     "metadata": {},
     "output_type": "execute_result"
    }
   ],
   "source": [
    "df.quote.isnull().value_counts()"
   ]
  },
  {
   "cell_type": "code",
   "execution_count": 251,
   "id": "2d9ee30f",
   "metadata": {},
   "outputs": [
    {
     "data": {
      "text/plain": [
       "(3532, 2)"
      ]
     },
     "execution_count": 251,
     "metadata": {},
     "output_type": "execute_result"
    }
   ],
   "source": [
    "df = df[ df.quote.isnull()==False]\n",
    "df.shape"
   ]
  },
  {
   "cell_type": "markdown",
   "id": "d02b98c0",
   "metadata": {},
   "source": [
    "## From 20.3k to 15.5k "
   ]
  },
  {
   "cell_type": "code",
   "execution_count": 252,
   "id": "41b1ba25",
   "metadata": {},
   "outputs": [
    {
     "name": "stdout",
     "output_type": "stream",
     "text": [
      " Almost  44.0 % of the data is wrangled out\n"
     ]
    }
   ],
   "source": [
    "print(\" Almost \", str(np.round(((27631-15534)*100/27631),0) ) , \"% of the data is wrangled out\")"
   ]
  },
  {
   "cell_type": "code",
   "execution_count": null,
   "id": "493c7710",
   "metadata": {},
   "outputs": [],
   "source": []
  },
  {
   "cell_type": "markdown",
   "id": "4223751e",
   "metadata": {},
   "source": [
    "# Feature Extraction"
   ]
  },
  {
   "cell_type": "code",
   "execution_count": 253,
   "id": "56004f1a",
   "metadata": {},
   "outputs": [],
   "source": [
    "from sklearn.feature_extraction.text import CountVectorizer\n",
    "vec = CountVectorizer()"
   ]
  },
  {
   "cell_type": "code",
   "execution_count": 254,
   "id": "11eb5cfe",
   "metadata": {},
   "outputs": [
    {
     "data": {
      "text/plain": [
       "((3532, 10868), scipy.sparse.csc.csc_matrix)"
      ]
     },
     "execution_count": 254,
     "metadata": {},
     "output_type": "execute_result"
    }
   ],
   "source": [
    "X = vec.fit_transform(df.quote.values).tocsc()\n",
    "X.shape, type(X)"
   ]
  },
  {
   "cell_type": "code",
   "execution_count": 255,
   "id": "4e6872f3",
   "metadata": {},
   "outputs": [
    {
     "data": {
      "text/plain": [
       "fresh     2216\n",
       "rotten    1316\n",
       "Name: fresh, dtype: int64"
      ]
     },
     "execution_count": 255,
     "metadata": {},
     "output_type": "execute_result"
    }
   ],
   "source": [
    "df.fresh.value_counts()"
   ]
  },
  {
   "cell_type": "code",
   "execution_count": 256,
   "id": "1af7da12",
   "metadata": {},
   "outputs": [
    {
     "data": {
      "text/plain": [
       "['fresh', 'rotten']"
      ]
     },
     "execution_count": 256,
     "metadata": {},
     "output_type": "execute_result"
    }
   ],
   "source": [
    "yv = df.fresh.value_counts().index.tolist()\n",
    "yv"
   ]
  },
  {
   "cell_type": "code",
   "execution_count": 257,
   "id": "41f0a3e8",
   "metadata": {},
   "outputs": [
    {
     "data": {
      "text/plain": [
       "1    2216\n",
       "0    1316\n",
       "Name: fresh, dtype: int64"
      ]
     },
     "execution_count": 257,
     "metadata": {},
     "output_type": "execute_result"
    }
   ],
   "source": [
    "df.replace(to_replace=yv, value=[1,0], inplace=True)\n",
    "df['fresh'].value_counts()"
   ]
  },
  {
   "cell_type": "code",
   "execution_count": 258,
   "id": "81c0bbb6",
   "metadata": {},
   "outputs": [
    {
     "data": {
      "text/plain": [
       "array([1, 1, 0, 1, 0, 1, 1, 0, 1, 1, 1, 1, 1, 0, 1, 1, 1, 1, 0, 1, 0, 0,\n",
       "       0, 1, 0, 0, 1, 0, 1, 0, 1, 1, 1, 0, 1, 1, 1, 0, 1, 0])"
      ]
     },
     "execution_count": 258,
     "metadata": {},
     "output_type": "execute_result"
    }
   ],
   "source": [
    "y = df.fresh.values\n",
    "y[0:40]"
   ]
  },
  {
   "cell_type": "code",
   "execution_count": 259,
   "id": "0da7a5ca",
   "metadata": {},
   "outputs": [
    {
     "data": {
      "text/plain": [
       "((3532, 10868), (3532,))"
      ]
     },
     "execution_count": 259,
     "metadata": {},
     "output_type": "execute_result"
    }
   ],
   "source": [
    "X.shape, y.shape"
   ]
  },
  {
   "cell_type": "markdown",
   "id": "0656c4ea",
   "metadata": {},
   "source": [
    "# Machine Learning "
   ]
  },
  {
   "cell_type": "code",
   "execution_count": 260,
   "id": "9c5cf91a",
   "metadata": {},
   "outputs": [],
   "source": [
    "from sklearn.model_selection import train_test_split, GridSearchCV "
   ]
  },
  {
   "cell_type": "code",
   "execution_count": 261,
   "id": "88d0ba08",
   "metadata": {},
   "outputs": [
    {
     "data": {
      "text/plain": [
       "((2472, 10868), (1060, 10868), (2472,), (1060,))"
      ]
     },
     "execution_count": 261,
     "metadata": {},
     "output_type": "execute_result"
    }
   ],
   "source": [
    "x_tr, x_t, y_tr, y_t = train_test_split(X, y, test_size=0.3, random_state=100)\n",
    "x_tr.shape, x_t.shape, y_tr.shape, y_t.shape"
   ]
  },
  {
   "cell_type": "raw",
   "id": "d4d42686",
   "metadata": {},
   "source": [
    "0.765071872988629 with MultinomialNB "
   ]
  },
  {
   "cell_type": "code",
   "execution_count": 262,
   "id": "2da925cf",
   "metadata": {},
   "outputs": [],
   "source": [
    "from sklearn.naive_bayes import MultinomialNB\n",
    "from sklearn.metrics import accuracy_score, roc_auc_score"
   ]
  },
  {
   "cell_type": "code",
   "execution_count": 263,
   "id": "93015a46",
   "metadata": {},
   "outputs": [
    {
     "data": {
      "text/plain": [
       "MultinomialNB()"
      ]
     },
     "execution_count": 263,
     "metadata": {},
     "output_type": "execute_result"
    }
   ],
   "source": [
    "clf = MultinomialNB()\n",
    "clf.fit(x_tr, y_tr)"
   ]
  },
  {
   "cell_type": "code",
   "execution_count": 264,
   "id": "ff87fdac",
   "metadata": {},
   "outputs": [
    {
     "data": {
      "text/plain": [
       "0.7264150943396226"
      ]
     },
     "execution_count": 264,
     "metadata": {},
     "output_type": "execute_result"
    }
   ],
   "source": [
    "y_p = clf.predict(x_t)\n",
    "accuracy_score(y_t, y_p)"
   ]
  },
  {
   "cell_type": "code",
   "execution_count": null,
   "id": "092c5394",
   "metadata": {},
   "outputs": [],
   "source": []
  },
  {
   "cell_type": "code",
   "execution_count": 265,
   "id": "af094ae5",
   "metadata": {},
   "outputs": [],
   "source": [
    "from sklearn import svm\n",
    "from sklearn.svm import SVC"
   ]
  },
  {
   "cell_type": "code",
   "execution_count": 266,
   "id": "32a20d3b",
   "metadata": {},
   "outputs": [],
   "source": [
    "clf = GridSearchCV(svm.SVC(gamma='auto'), {'C':[1,10, 20], 'kernel':['linear']}, cv=5, return_train_score=False)"
   ]
  },
  {
   "cell_type": "code",
   "execution_count": 267,
   "id": "6c57383e",
   "metadata": {},
   "outputs": [],
   "source": [
    "clf.fit(x_tr, y_tr)\n",
    "res = pd.DataFrame(clf.cv_results_)"
   ]
  },
  {
   "cell_type": "code",
   "execution_count": 268,
   "id": "57cf5573",
   "metadata": {},
   "outputs": [
    {
     "data": {
      "text/plain": [
       "Index(['mean_fit_time', 'std_fit_time', 'mean_score_time', 'std_score_time',\n",
       "       'param_C', 'param_kernel', 'params', 'split0_test_score',\n",
       "       'split1_test_score', 'split2_test_score', 'split3_test_score',\n",
       "       'split4_test_score', 'mean_test_score', 'std_test_score',\n",
       "       'rank_test_score'],\n",
       "      dtype='object')"
      ]
     },
     "execution_count": 268,
     "metadata": {},
     "output_type": "execute_result"
    }
   ],
   "source": [
    "res.columns"
   ]
  },
  {
   "cell_type": "code",
   "execution_count": 269,
   "id": "961fb6a7",
   "metadata": {},
   "outputs": [
    {
     "data": {
      "text/html": [
       "<div>\n",
       "<style scoped>\n",
       "    .dataframe tbody tr th:only-of-type {\n",
       "        vertical-align: middle;\n",
       "    }\n",
       "\n",
       "    .dataframe tbody tr th {\n",
       "        vertical-align: top;\n",
       "    }\n",
       "\n",
       "    .dataframe thead th {\n",
       "        text-align: right;\n",
       "    }\n",
       "</style>\n",
       "<table border=\"1\" class=\"dataframe\">\n",
       "  <thead>\n",
       "    <tr style=\"text-align: right;\">\n",
       "      <th></th>\n",
       "      <th>param_C</th>\n",
       "      <th>param_kernel</th>\n",
       "      <th>mean_test_score</th>\n",
       "    </tr>\n",
       "  </thead>\n",
       "  <tbody>\n",
       "    <tr>\n",
       "      <th>0</th>\n",
       "      <td>1</td>\n",
       "      <td>linear</td>\n",
       "      <td>0.691355</td>\n",
       "    </tr>\n",
       "    <tr>\n",
       "      <th>1</th>\n",
       "      <td>10</td>\n",
       "      <td>linear</td>\n",
       "      <td>0.692168</td>\n",
       "    </tr>\n",
       "    <tr>\n",
       "      <th>2</th>\n",
       "      <td>20</td>\n",
       "      <td>linear</td>\n",
       "      <td>0.692168</td>\n",
       "    </tr>\n",
       "  </tbody>\n",
       "</table>\n",
       "</div>"
      ],
      "text/plain": [
       "  param_C param_kernel  mean_test_score\n",
       "0       1       linear         0.691355\n",
       "1      10       linear         0.692168\n",
       "2      20       linear         0.692168"
      ]
     },
     "execution_count": 269,
     "metadata": {},
     "output_type": "execute_result"
    }
   ],
   "source": [
    "res[ ['param_C', 'param_kernel', 'mean_test_score'] ] "
   ]
  },
  {
   "cell_type": "raw",
   "id": "1063745e",
   "metadata": {},
   "source": [
    "0.704041"
   ]
  },
  {
   "cell_type": "code",
   "execution_count": null,
   "id": "539b04b6",
   "metadata": {},
   "outputs": [],
   "source": []
  }
 ],
 "metadata": {
  "kernelspec": {
   "display_name": "Python 3",
   "language": "python",
   "name": "python3"
  },
  "language_info": {
   "codemirror_mode": {
    "name": "ipython",
    "version": 3
   },
   "file_extension": ".py",
   "mimetype": "text/x-python",
   "name": "python",
   "nbconvert_exporter": "python",
   "pygments_lexer": "ipython3",
   "version": "3.8.8"
  }
 },
 "nbformat": 4,
 "nbformat_minor": 5
}
