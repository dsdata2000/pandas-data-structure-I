{
 "cells": [
  {
   "cell_type": "code",
   "execution_count": 1047,
   "id": "3d87e6ea",
   "metadata": {},
   "outputs": [],
   "source": [
    "import pandas as pd\n",
    "import numpy as np\n",
    "from numpy.random import seed\n",
    "\n",
    "import warnings\n",
    "warnings.filterwarnings(\"ignore\")"
   ]
  },
  {
   "cell_type": "code",
   "execution_count": 1048,
   "id": "4db7a335",
   "metadata": {},
   "outputs": [],
   "source": [
    "seed(100)"
   ]
  },
  {
   "cell_type": "code",
   "execution_count": null,
   "id": "5f1fdb7e",
   "metadata": {},
   "outputs": [],
   "source": []
  },
  {
   "cell_type": "code",
   "execution_count": 1049,
   "id": "d0ec07bc",
   "metadata": {},
   "outputs": [
    {
     "data": {
      "text/html": [
       "<div>\n",
       "<style scoped>\n",
       "    .dataframe tbody tr th:only-of-type {\n",
       "        vertical-align: middle;\n",
       "    }\n",
       "\n",
       "    .dataframe tbody tr th {\n",
       "        vertical-align: top;\n",
       "    }\n",
       "\n",
       "    .dataframe thead th {\n",
       "        text-align: right;\n",
       "    }\n",
       "</style>\n",
       "<table border=\"1\" class=\"dataframe\">\n",
       "  <thead>\n",
       "    <tr style=\"text-align: right;\">\n",
       "      <th></th>\n",
       "      <th>Administrative</th>\n",
       "      <th>Administrative_Duration</th>\n",
       "      <th>Informational</th>\n",
       "      <th>Informational_Duration</th>\n",
       "      <th>ProductRelated</th>\n",
       "      <th>ProductRelated_Duration</th>\n",
       "      <th>BounceRates</th>\n",
       "      <th>ExitRates</th>\n",
       "      <th>PageValues</th>\n",
       "      <th>SpecialDay</th>\n",
       "      <th>Month</th>\n",
       "      <th>OperatingSystems</th>\n",
       "      <th>Browser</th>\n",
       "      <th>Region</th>\n",
       "      <th>TrafficType</th>\n",
       "      <th>VisitorType</th>\n",
       "      <th>Weekend</th>\n",
       "      <th>Revenue</th>\n",
       "    </tr>\n",
       "  </thead>\n",
       "  <tbody>\n",
       "    <tr>\n",
       "      <th>0</th>\n",
       "      <td>0.0</td>\n",
       "      <td>0.0</td>\n",
       "      <td>0.0</td>\n",
       "      <td>0.0</td>\n",
       "      <td>1.0</td>\n",
       "      <td>0.000000</td>\n",
       "      <td>0.20</td>\n",
       "      <td>0.20</td>\n",
       "      <td>0.0</td>\n",
       "      <td>0.0</td>\n",
       "      <td>Feb</td>\n",
       "      <td>1</td>\n",
       "      <td>1</td>\n",
       "      <td>1</td>\n",
       "      <td>1</td>\n",
       "      <td>Returning_Visitor</td>\n",
       "      <td>False</td>\n",
       "      <td>False</td>\n",
       "    </tr>\n",
       "    <tr>\n",
       "      <th>1</th>\n",
       "      <td>0.0</td>\n",
       "      <td>0.0</td>\n",
       "      <td>0.0</td>\n",
       "      <td>0.0</td>\n",
       "      <td>2.0</td>\n",
       "      <td>64.000000</td>\n",
       "      <td>0.00</td>\n",
       "      <td>0.10</td>\n",
       "      <td>0.0</td>\n",
       "      <td>0.0</td>\n",
       "      <td>Feb</td>\n",
       "      <td>2</td>\n",
       "      <td>2</td>\n",
       "      <td>1</td>\n",
       "      <td>2</td>\n",
       "      <td>Returning_Visitor</td>\n",
       "      <td>False</td>\n",
       "      <td>False</td>\n",
       "    </tr>\n",
       "    <tr>\n",
       "      <th>2</th>\n",
       "      <td>0.0</td>\n",
       "      <td>-1.0</td>\n",
       "      <td>0.0</td>\n",
       "      <td>-1.0</td>\n",
       "      <td>1.0</td>\n",
       "      <td>-1.000000</td>\n",
       "      <td>0.20</td>\n",
       "      <td>0.20</td>\n",
       "      <td>0.0</td>\n",
       "      <td>0.0</td>\n",
       "      <td>Feb</td>\n",
       "      <td>4</td>\n",
       "      <td>1</td>\n",
       "      <td>9</td>\n",
       "      <td>3</td>\n",
       "      <td>Returning_Visitor</td>\n",
       "      <td>False</td>\n",
       "      <td>False</td>\n",
       "    </tr>\n",
       "    <tr>\n",
       "      <th>3</th>\n",
       "      <td>0.0</td>\n",
       "      <td>0.0</td>\n",
       "      <td>0.0</td>\n",
       "      <td>0.0</td>\n",
       "      <td>2.0</td>\n",
       "      <td>2.666667</td>\n",
       "      <td>0.05</td>\n",
       "      <td>0.14</td>\n",
       "      <td>0.0</td>\n",
       "      <td>0.0</td>\n",
       "      <td>Feb</td>\n",
       "      <td>3</td>\n",
       "      <td>2</td>\n",
       "      <td>2</td>\n",
       "      <td>4</td>\n",
       "      <td>Returning_Visitor</td>\n",
       "      <td>False</td>\n",
       "      <td>False</td>\n",
       "    </tr>\n",
       "    <tr>\n",
       "      <th>4</th>\n",
       "      <td>0.0</td>\n",
       "      <td>0.0</td>\n",
       "      <td>0.0</td>\n",
       "      <td>0.0</td>\n",
       "      <td>10.0</td>\n",
       "      <td>627.500000</td>\n",
       "      <td>0.02</td>\n",
       "      <td>0.05</td>\n",
       "      <td>0.0</td>\n",
       "      <td>0.0</td>\n",
       "      <td>Feb</td>\n",
       "      <td>3</td>\n",
       "      <td>3</td>\n",
       "      <td>1</td>\n",
       "      <td>4</td>\n",
       "      <td>Returning_Visitor</td>\n",
       "      <td>True</td>\n",
       "      <td>False</td>\n",
       "    </tr>\n",
       "  </tbody>\n",
       "</table>\n",
       "</div>"
      ],
      "text/plain": [
       "   Administrative  Administrative_Duration  Informational  \\\n",
       "0             0.0                      0.0            0.0   \n",
       "1             0.0                      0.0            0.0   \n",
       "2             0.0                     -1.0            0.0   \n",
       "3             0.0                      0.0            0.0   \n",
       "4             0.0                      0.0            0.0   \n",
       "\n",
       "   Informational_Duration  ProductRelated  ProductRelated_Duration  \\\n",
       "0                     0.0             1.0                 0.000000   \n",
       "1                     0.0             2.0                64.000000   \n",
       "2                    -1.0             1.0                -1.000000   \n",
       "3                     0.0             2.0                 2.666667   \n",
       "4                     0.0            10.0               627.500000   \n",
       "\n",
       "   BounceRates  ExitRates  PageValues  SpecialDay Month  OperatingSystems  \\\n",
       "0         0.20       0.20         0.0         0.0   Feb                 1   \n",
       "1         0.00       0.10         0.0         0.0   Feb                 2   \n",
       "2         0.20       0.20         0.0         0.0   Feb                 4   \n",
       "3         0.05       0.14         0.0         0.0   Feb                 3   \n",
       "4         0.02       0.05         0.0         0.0   Feb                 3   \n",
       "\n",
       "   Browser  Region  TrafficType        VisitorType  Weekend  Revenue  \n",
       "0        1       1            1  Returning_Visitor    False    False  \n",
       "1        2       1            2  Returning_Visitor    False    False  \n",
       "2        1       9            3  Returning_Visitor    False    False  \n",
       "3        2       2            4  Returning_Visitor    False    False  \n",
       "4        3       1            4  Returning_Visitor     True    False  "
      ]
     },
     "execution_count": 1049,
     "metadata": {},
     "output_type": "execute_result"
    }
   ],
   "source": [
    "df = pd.read_csv(\"./DATA/online_shoppers_intention.csv\")\n",
    "df.head()"
   ]
  },
  {
   "cell_type": "code",
   "execution_count": 1050,
   "id": "22f02687",
   "metadata": {},
   "outputs": [
    {
     "data": {
      "text/plain": [
       "(12330, 18)"
      ]
     },
     "execution_count": 1050,
     "metadata": {},
     "output_type": "execute_result"
    }
   ],
   "source": [
    "df.shape"
   ]
  },
  {
   "cell_type": "code",
   "execution_count": 1051,
   "id": "dae16363",
   "metadata": {},
   "outputs": [
    {
     "data": {
      "text/plain": [
       "['Administrative',\n",
       " 'Administrative_Duration',\n",
       " 'Informational',\n",
       " 'Informational_Duration',\n",
       " 'ProductRelated',\n",
       " 'ProductRelated_Duration',\n",
       " 'BounceRates',\n",
       " 'ExitRates',\n",
       " 'PageValues',\n",
       " 'SpecialDay',\n",
       " 'Month',\n",
       " 'OperatingSystems',\n",
       " 'Browser',\n",
       " 'Region',\n",
       " 'TrafficType',\n",
       " 'VisitorType',\n",
       " 'Weekend',\n",
       " 'Revenue']"
      ]
     },
     "execution_count": 1051,
     "metadata": {},
     "output_type": "execute_result"
    }
   ],
   "source": [
    "cols = df.columns.tolist()\n",
    "cols"
   ]
  },
  {
   "cell_type": "code",
   "execution_count": 1052,
   "id": "03cb60fd",
   "metadata": {},
   "outputs": [],
   "source": [
    "df = df[ df[\"Administrative_Duration\"]>=0 ]\n",
    "df = df[ df['Informational_Duration']>=0 ]\n",
    "df = df[ df['ProductRelated_Duration']>=0 ]"
   ]
  },
  {
   "cell_type": "code",
   "execution_count": 1053,
   "id": "4932d5e5",
   "metadata": {},
   "outputs": [
    {
     "data": {
      "text/plain": [
       "(12283, 18)"
      ]
     },
     "execution_count": 1053,
     "metadata": {},
     "output_type": "execute_result"
    }
   ],
   "source": [
    "df.shape"
   ]
  },
  {
   "cell_type": "code",
   "execution_count": 1054,
   "id": "07e49b06",
   "metadata": {},
   "outputs": [
    {
     "data": {
      "text/plain": [
       "47"
      ]
     },
     "execution_count": 1054,
     "metadata": {},
     "output_type": "execute_result"
    }
   ],
   "source": [
    "12330 - 12283"
   ]
  },
  {
   "cell_type": "code",
   "execution_count": 1055,
   "id": "1c68dec2",
   "metadata": {},
   "outputs": [
    {
     "data": {
      "text/plain": [
       "False    12283\n",
       "Name: Administrative, dtype: int64"
      ]
     },
     "execution_count": 1055,
     "metadata": {},
     "output_type": "execute_result"
    }
   ],
   "source": [
    "df[\"Administrative\"].isnull().value_counts()"
   ]
  },
  {
   "cell_type": "code",
   "execution_count": 1056,
   "id": "36e926ad",
   "metadata": {},
   "outputs": [
    {
     "name": "stdout",
     "output_type": "stream",
     "text": [
      "False    12283\n",
      "Name: Administrative, dtype: int64\n",
      "False    12283\n",
      "Name: Administrative_Duration, dtype: int64\n",
      "False    12283\n",
      "Name: Informational, dtype: int64\n",
      "False    12283\n",
      "Name: Informational_Duration, dtype: int64\n",
      "False    12283\n",
      "Name: ProductRelated, dtype: int64\n",
      "False    12283\n",
      "Name: ProductRelated_Duration, dtype: int64\n",
      "False    12283\n",
      "Name: BounceRates, dtype: int64\n",
      "False    12283\n",
      "Name: ExitRates, dtype: int64\n",
      "False    12283\n",
      "Name: PageValues, dtype: int64\n",
      "False    12283\n",
      "Name: SpecialDay, dtype: int64\n",
      "False    12283\n",
      "Name: Month, dtype: int64\n",
      "False    12283\n",
      "Name: OperatingSystems, dtype: int64\n",
      "False    12283\n",
      "Name: Browser, dtype: int64\n",
      "False    12283\n",
      "Name: Region, dtype: int64\n",
      "False    12283\n",
      "Name: TrafficType, dtype: int64\n",
      "False    12283\n",
      "Name: VisitorType, dtype: int64\n",
      "False    12283\n",
      "Name: Weekend, dtype: int64\n",
      "False    12283\n",
      "Name: Revenue, dtype: int64\n"
     ]
    }
   ],
   "source": [
    "for c in cols:\n",
    "    print(df[c].isnull().value_counts())"
   ]
  },
  {
   "cell_type": "code",
   "execution_count": 1057,
   "id": "25dc2a2c",
   "metadata": {},
   "outputs": [
    {
     "name": "stdout",
     "output_type": "stream",
     "text": [
      "<class 'pandas.core.frame.DataFrame'>\n",
      "Int64Index: 12283 entries, 0 to 12329\n",
      "Data columns (total 18 columns):\n",
      " #   Column                   Non-Null Count  Dtype  \n",
      "---  ------                   --------------  -----  \n",
      " 0   Administrative           12283 non-null  float64\n",
      " 1   Administrative_Duration  12283 non-null  float64\n",
      " 2   Informational            12283 non-null  float64\n",
      " 3   Informational_Duration   12283 non-null  float64\n",
      " 4   ProductRelated           12283 non-null  float64\n",
      " 5   ProductRelated_Duration  12283 non-null  float64\n",
      " 6   BounceRates              12283 non-null  float64\n",
      " 7   ExitRates                12283 non-null  float64\n",
      " 8   PageValues               12283 non-null  float64\n",
      " 9   SpecialDay               12283 non-null  float64\n",
      " 10  Month                    12283 non-null  object \n",
      " 11  OperatingSystems         12283 non-null  int64  \n",
      " 12  Browser                  12283 non-null  int64  \n",
      " 13  Region                   12283 non-null  int64  \n",
      " 14  TrafficType              12283 non-null  int64  \n",
      " 15  VisitorType              12283 non-null  object \n",
      " 16  Weekend                  12283 non-null  bool   \n",
      " 17  Revenue                  12283 non-null  bool   \n",
      "dtypes: bool(2), float64(10), int64(4), object(2)\n",
      "memory usage: 1.6+ MB\n"
     ]
    }
   ],
   "source": [
    "df.info()"
   ]
  },
  {
   "cell_type": "code",
   "execution_count": 1058,
   "id": "74627e2e",
   "metadata": {},
   "outputs": [],
   "source": [
    "m = df.Month.value_counts().index\n",
    "mv = np.arange(1, len(m)+1,1).tolist()\n",
    "df.Month.replace(to_replace=m, value=mv, inplace=True)"
   ]
  },
  {
   "cell_type": "code",
   "execution_count": 1059,
   "id": "ff024117",
   "metadata": {},
   "outputs": [],
   "source": [
    "vt = df.VisitorType.value_counts().index.tolist()\n",
    "vtv = [1,2,3]\n",
    "df.VisitorType.replace(to_replace=vt, value=vtv, inplace=True)"
   ]
  },
  {
   "cell_type": "code",
   "execution_count": 1060,
   "id": "e7269c90",
   "metadata": {},
   "outputs": [],
   "source": [
    "w = df.Weekend.value_counts().index.tolist()\n",
    "wv = [1,2]\n",
    "df.Weekend.replace(to_replace=w, value=wv, inplace=True)"
   ]
  },
  {
   "cell_type": "code",
   "execution_count": 1061,
   "id": "80d5316c",
   "metadata": {},
   "outputs": [],
   "source": [
    "r = df.Revenue.value_counts().index.tolist()\n",
    "rv = [1,2]\n",
    "df.Revenue.replace(to_replace=r, value=rv, inplace=True)"
   ]
  },
  {
   "cell_type": "code",
   "execution_count": 1062,
   "id": "9d7dfe38",
   "metadata": {},
   "outputs": [
    {
     "data": {
      "text/html": [
       "<div>\n",
       "<style scoped>\n",
       "    .dataframe tbody tr th:only-of-type {\n",
       "        vertical-align: middle;\n",
       "    }\n",
       "\n",
       "    .dataframe tbody tr th {\n",
       "        vertical-align: top;\n",
       "    }\n",
       "\n",
       "    .dataframe thead th {\n",
       "        text-align: right;\n",
       "    }\n",
       "</style>\n",
       "<table border=\"1\" class=\"dataframe\">\n",
       "  <thead>\n",
       "    <tr style=\"text-align: right;\">\n",
       "      <th></th>\n",
       "      <th>Administrative</th>\n",
       "      <th>Administrative_Duration</th>\n",
       "      <th>Informational</th>\n",
       "      <th>Informational_Duration</th>\n",
       "      <th>ProductRelated</th>\n",
       "      <th>ProductRelated_Duration</th>\n",
       "      <th>BounceRates</th>\n",
       "      <th>ExitRates</th>\n",
       "      <th>PageValues</th>\n",
       "      <th>SpecialDay</th>\n",
       "      <th>Month</th>\n",
       "      <th>OperatingSystems</th>\n",
       "      <th>Browser</th>\n",
       "      <th>Region</th>\n",
       "      <th>TrafficType</th>\n",
       "      <th>VisitorType</th>\n",
       "      <th>Weekend</th>\n",
       "      <th>Revenue</th>\n",
       "    </tr>\n",
       "  </thead>\n",
       "  <tbody>\n",
       "    <tr>\n",
       "      <th>0</th>\n",
       "      <td>0.0</td>\n",
       "      <td>0.0</td>\n",
       "      <td>0.0</td>\n",
       "      <td>0.0</td>\n",
       "      <td>1.0</td>\n",
       "      <td>0.000000</td>\n",
       "      <td>0.200000</td>\n",
       "      <td>0.200000</td>\n",
       "      <td>0.0</td>\n",
       "      <td>0.0</td>\n",
       "      <td>10</td>\n",
       "      <td>1</td>\n",
       "      <td>1</td>\n",
       "      <td>1</td>\n",
       "      <td>1</td>\n",
       "      <td>1</td>\n",
       "      <td>1</td>\n",
       "      <td>1</td>\n",
       "    </tr>\n",
       "    <tr>\n",
       "      <th>1</th>\n",
       "      <td>0.0</td>\n",
       "      <td>0.0</td>\n",
       "      <td>0.0</td>\n",
       "      <td>0.0</td>\n",
       "      <td>2.0</td>\n",
       "      <td>64.000000</td>\n",
       "      <td>0.000000</td>\n",
       "      <td>0.100000</td>\n",
       "      <td>0.0</td>\n",
       "      <td>0.0</td>\n",
       "      <td>10</td>\n",
       "      <td>2</td>\n",
       "      <td>2</td>\n",
       "      <td>1</td>\n",
       "      <td>2</td>\n",
       "      <td>1</td>\n",
       "      <td>1</td>\n",
       "      <td>1</td>\n",
       "    </tr>\n",
       "    <tr>\n",
       "      <th>3</th>\n",
       "      <td>0.0</td>\n",
       "      <td>0.0</td>\n",
       "      <td>0.0</td>\n",
       "      <td>0.0</td>\n",
       "      <td>2.0</td>\n",
       "      <td>2.666667</td>\n",
       "      <td>0.050000</td>\n",
       "      <td>0.140000</td>\n",
       "      <td>0.0</td>\n",
       "      <td>0.0</td>\n",
       "      <td>10</td>\n",
       "      <td>3</td>\n",
       "      <td>2</td>\n",
       "      <td>2</td>\n",
       "      <td>4</td>\n",
       "      <td>1</td>\n",
       "      <td>1</td>\n",
       "      <td>1</td>\n",
       "    </tr>\n",
       "    <tr>\n",
       "      <th>4</th>\n",
       "      <td>0.0</td>\n",
       "      <td>0.0</td>\n",
       "      <td>0.0</td>\n",
       "      <td>0.0</td>\n",
       "      <td>10.0</td>\n",
       "      <td>627.500000</td>\n",
       "      <td>0.020000</td>\n",
       "      <td>0.050000</td>\n",
       "      <td>0.0</td>\n",
       "      <td>0.0</td>\n",
       "      <td>10</td>\n",
       "      <td>3</td>\n",
       "      <td>3</td>\n",
       "      <td>1</td>\n",
       "      <td>4</td>\n",
       "      <td>1</td>\n",
       "      <td>2</td>\n",
       "      <td>1</td>\n",
       "    </tr>\n",
       "    <tr>\n",
       "      <th>5</th>\n",
       "      <td>0.0</td>\n",
       "      <td>0.0</td>\n",
       "      <td>0.0</td>\n",
       "      <td>0.0</td>\n",
       "      <td>19.0</td>\n",
       "      <td>154.216667</td>\n",
       "      <td>0.015789</td>\n",
       "      <td>0.024561</td>\n",
       "      <td>0.0</td>\n",
       "      <td>0.0</td>\n",
       "      <td>10</td>\n",
       "      <td>2</td>\n",
       "      <td>2</td>\n",
       "      <td>1</td>\n",
       "      <td>3</td>\n",
       "      <td>1</td>\n",
       "      <td>1</td>\n",
       "      <td>1</td>\n",
       "    </tr>\n",
       "  </tbody>\n",
       "</table>\n",
       "</div>"
      ],
      "text/plain": [
       "   Administrative  Administrative_Duration  Informational  \\\n",
       "0             0.0                      0.0            0.0   \n",
       "1             0.0                      0.0            0.0   \n",
       "3             0.0                      0.0            0.0   \n",
       "4             0.0                      0.0            0.0   \n",
       "5             0.0                      0.0            0.0   \n",
       "\n",
       "   Informational_Duration  ProductRelated  ProductRelated_Duration  \\\n",
       "0                     0.0             1.0                 0.000000   \n",
       "1                     0.0             2.0                64.000000   \n",
       "3                     0.0             2.0                 2.666667   \n",
       "4                     0.0            10.0               627.500000   \n",
       "5                     0.0            19.0               154.216667   \n",
       "\n",
       "   BounceRates  ExitRates  PageValues  SpecialDay  Month  OperatingSystems  \\\n",
       "0     0.200000   0.200000         0.0         0.0     10                 1   \n",
       "1     0.000000   0.100000         0.0         0.0     10                 2   \n",
       "3     0.050000   0.140000         0.0         0.0     10                 3   \n",
       "4     0.020000   0.050000         0.0         0.0     10                 3   \n",
       "5     0.015789   0.024561         0.0         0.0     10                 2   \n",
       "\n",
       "   Browser  Region  TrafficType  VisitorType  Weekend  Revenue  \n",
       "0        1       1            1            1        1        1  \n",
       "1        2       1            2            1        1        1  \n",
       "3        2       2            4            1        1        1  \n",
       "4        3       1            4            1        2        1  \n",
       "5        2       1            3            1        1        1  "
      ]
     },
     "execution_count": 1062,
     "metadata": {},
     "output_type": "execute_result"
    }
   ],
   "source": [
    "df.head()"
   ]
  },
  {
   "cell_type": "code",
   "execution_count": 1063,
   "id": "33cb4ba5",
   "metadata": {},
   "outputs": [
    {
     "data": {
      "text/plain": [
       "(12283,)"
      ]
     },
     "execution_count": 1063,
     "metadata": {},
     "output_type": "execute_result"
    }
   ],
   "source": [
    "y = df.Revenue.values\n",
    "y.shape"
   ]
  },
  {
   "cell_type": "code",
   "execution_count": null,
   "id": "2c305e98",
   "metadata": {},
   "outputs": [],
   "source": []
  },
  {
   "cell_type": "markdown",
   "id": "2601ac27",
   "metadata": {},
   "source": [
    "# preprocessing.StandardScaler()"
   ]
  },
  {
   "cell_type": "code",
   "execution_count": 1064,
   "id": "7ea7f387",
   "metadata": {},
   "outputs": [],
   "source": [
    "from sklearn import preprocessing"
   ]
  },
  {
   "cell_type": "code",
   "execution_count": 1065,
   "id": "7b8a7e49",
   "metadata": {},
   "outputs": [],
   "source": [
    "df1 = df.copy()"
   ]
  },
  {
   "cell_type": "code",
   "execution_count": 1066,
   "id": "368e047f",
   "metadata": {},
   "outputs": [
    {
     "data": {
      "text/plain": [
       "(12283, 18)"
      ]
     },
     "execution_count": 1066,
     "metadata": {},
     "output_type": "execute_result"
    }
   ],
   "source": [
    "df1.shape"
   ]
  },
  {
   "cell_type": "code",
   "execution_count": 1067,
   "id": "f1deb234",
   "metadata": {},
   "outputs": [
    {
     "data": {
      "text/plain": [
       "(12283, 17)"
      ]
     },
     "execution_count": 1067,
     "metadata": {},
     "output_type": "execute_result"
    }
   ],
   "source": [
    "cols1 = cols[0:len(cols)-1:1] \n",
    "data = df[cols1]\n",
    "data.shape"
   ]
  },
  {
   "cell_type": "code",
   "execution_count": 1068,
   "id": "6cb75fa0",
   "metadata": {},
   "outputs": [
    {
     "data": {
      "text/plain": [
       "['Administrative',\n",
       " 'Administrative_Duration',\n",
       " 'Informational',\n",
       " 'Informational_Duration',\n",
       " 'ProductRelated',\n",
       " 'ProductRelated_Duration',\n",
       " 'BounceRates',\n",
       " 'ExitRates',\n",
       " 'PageValues',\n",
       " 'SpecialDay',\n",
       " 'Month',\n",
       " 'OperatingSystems',\n",
       " 'Browser',\n",
       " 'Region',\n",
       " 'TrafficType',\n",
       " 'VisitorType',\n",
       " 'Weekend']"
      ]
     },
     "execution_count": 1068,
     "metadata": {},
     "output_type": "execute_result"
    }
   ],
   "source": [
    "cols1"
   ]
  },
  {
   "cell_type": "code",
   "execution_count": 1069,
   "id": "cec2a262",
   "metadata": {},
   "outputs": [
    {
     "data": {
      "text/plain": [
       "((12283, 17),)"
      ]
     },
     "execution_count": 1069,
     "metadata": {},
     "output_type": "execute_result"
    }
   ],
   "source": [
    "X = preprocessing.StandardScaler().fit(data).transform(data)\n",
    "X.shape, "
   ]
  },
  {
   "cell_type": "code",
   "execution_count": 1070,
   "id": "4cfc39b0",
   "metadata": {},
   "outputs": [],
   "source": [
    "df[cols1]=X\n",
    "df[\"Revenue\"] = y"
   ]
  },
  {
   "cell_type": "code",
   "execution_count": 1071,
   "id": "1583d7cc",
   "metadata": {},
   "outputs": [
    {
     "data": {
      "text/html": [
       "<div>\n",
       "<style scoped>\n",
       "    .dataframe tbody tr th:only-of-type {\n",
       "        vertical-align: middle;\n",
       "    }\n",
       "\n",
       "    .dataframe tbody tr th {\n",
       "        vertical-align: top;\n",
       "    }\n",
       "\n",
       "    .dataframe thead th {\n",
       "        text-align: right;\n",
       "    }\n",
       "</style>\n",
       "<table border=\"1\" class=\"dataframe\">\n",
       "  <thead>\n",
       "    <tr style=\"text-align: right;\">\n",
       "      <th></th>\n",
       "      <th>Administrative</th>\n",
       "      <th>Administrative_Duration</th>\n",
       "      <th>Informational</th>\n",
       "      <th>Informational_Duration</th>\n",
       "      <th>ProductRelated</th>\n",
       "      <th>ProductRelated_Duration</th>\n",
       "      <th>BounceRates</th>\n",
       "      <th>ExitRates</th>\n",
       "      <th>PageValues</th>\n",
       "      <th>SpecialDay</th>\n",
       "      <th>Month</th>\n",
       "      <th>OperatingSystems</th>\n",
       "      <th>Browser</th>\n",
       "      <th>Region</th>\n",
       "      <th>TrafficType</th>\n",
       "      <th>VisitorType</th>\n",
       "      <th>Weekend</th>\n",
       "      <th>Revenue</th>\n",
       "    </tr>\n",
       "  </thead>\n",
       "  <tbody>\n",
       "    <tr>\n",
       "      <th>0</th>\n",
       "      <td>-0.698907</td>\n",
       "      <td>-0.458238</td>\n",
       "      <td>-0.397247</td>\n",
       "      <td>-0.245408</td>\n",
       "      <td>-0.692875</td>\n",
       "      <td>-0.625962</td>\n",
       "      <td>3.738726</td>\n",
       "      <td>3.281565</td>\n",
       "      <td>-0.317845</td>\n",
       "      <td>-0.309031</td>\n",
       "      <td>3.102389</td>\n",
       "      <td>-1.233236</td>\n",
       "      <td>-0.790241</td>\n",
       "      <td>-0.893929</td>\n",
       "      <td>-0.763172</td>\n",
       "      <td>-0.401915</td>\n",
       "      <td>-0.551171</td>\n",
       "      <td>1</td>\n",
       "    </tr>\n",
       "    <tr>\n",
       "      <th>1</th>\n",
       "      <td>-0.698907</td>\n",
       "      <td>-0.458238</td>\n",
       "      <td>-0.397247</td>\n",
       "      <td>-0.245408</td>\n",
       "      <td>-0.670413</td>\n",
       "      <td>-0.592556</td>\n",
       "      <td>-0.455574</td>\n",
       "      <td>1.196568</td>\n",
       "      <td>-0.317845</td>\n",
       "      <td>-0.309031</td>\n",
       "      <td>3.102389</td>\n",
       "      <td>-0.136361</td>\n",
       "      <td>-0.207896</td>\n",
       "      <td>-0.893929</td>\n",
       "      <td>-0.514741</td>\n",
       "      <td>-0.401915</td>\n",
       "      <td>-0.551171</td>\n",
       "      <td>1</td>\n",
       "    </tr>\n",
       "    <tr>\n",
       "      <th>3</th>\n",
       "      <td>-0.698907</td>\n",
       "      <td>-0.458238</td>\n",
       "      <td>-0.397247</td>\n",
       "      <td>-0.245408</td>\n",
       "      <td>-0.670413</td>\n",
       "      <td>-0.624570</td>\n",
       "      <td>0.593001</td>\n",
       "      <td>2.030567</td>\n",
       "      <td>-0.317845</td>\n",
       "      <td>-0.309031</td>\n",
       "      <td>3.102389</td>\n",
       "      <td>0.960513</td>\n",
       "      <td>-0.207896</td>\n",
       "      <td>-0.477589</td>\n",
       "      <td>-0.017879</td>\n",
       "      <td>-0.401915</td>\n",
       "      <td>-0.551171</td>\n",
       "      <td>1</td>\n",
       "    </tr>\n",
       "    <tr>\n",
       "      <th>4</th>\n",
       "      <td>-0.698907</td>\n",
       "      <td>-0.458238</td>\n",
       "      <td>-0.397247</td>\n",
       "      <td>-0.245408</td>\n",
       "      <td>-0.490717</td>\n",
       "      <td>-0.298432</td>\n",
       "      <td>-0.036144</td>\n",
       "      <td>0.154069</td>\n",
       "      <td>-0.317845</td>\n",
       "      <td>-0.309031</td>\n",
       "      <td>3.102389</td>\n",
       "      <td>0.960513</td>\n",
       "      <td>0.374450</td>\n",
       "      <td>-0.893929</td>\n",
       "      <td>-0.017879</td>\n",
       "      <td>-0.401915</td>\n",
       "      <td>1.814319</td>\n",
       "      <td>1</td>\n",
       "    </tr>\n",
       "    <tr>\n",
       "      <th>5</th>\n",
       "      <td>-0.698907</td>\n",
       "      <td>-0.458238</td>\n",
       "      <td>-0.397247</td>\n",
       "      <td>-0.245408</td>\n",
       "      <td>-0.288559</td>\n",
       "      <td>-0.545467</td>\n",
       "      <td>-0.124445</td>\n",
       "      <td>-0.376325</td>\n",
       "      <td>-0.317845</td>\n",
       "      <td>-0.309031</td>\n",
       "      <td>3.102389</td>\n",
       "      <td>-0.136361</td>\n",
       "      <td>-0.207896</td>\n",
       "      <td>-0.893929</td>\n",
       "      <td>-0.266310</td>\n",
       "      <td>-0.401915</td>\n",
       "      <td>-0.551171</td>\n",
       "      <td>1</td>\n",
       "    </tr>\n",
       "  </tbody>\n",
       "</table>\n",
       "</div>"
      ],
      "text/plain": [
       "   Administrative  Administrative_Duration  Informational  \\\n",
       "0       -0.698907                -0.458238      -0.397247   \n",
       "1       -0.698907                -0.458238      -0.397247   \n",
       "3       -0.698907                -0.458238      -0.397247   \n",
       "4       -0.698907                -0.458238      -0.397247   \n",
       "5       -0.698907                -0.458238      -0.397247   \n",
       "\n",
       "   Informational_Duration  ProductRelated  ProductRelated_Duration  \\\n",
       "0               -0.245408       -0.692875                -0.625962   \n",
       "1               -0.245408       -0.670413                -0.592556   \n",
       "3               -0.245408       -0.670413                -0.624570   \n",
       "4               -0.245408       -0.490717                -0.298432   \n",
       "5               -0.245408       -0.288559                -0.545467   \n",
       "\n",
       "   BounceRates  ExitRates  PageValues  SpecialDay     Month  OperatingSystems  \\\n",
       "0     3.738726   3.281565   -0.317845   -0.309031  3.102389         -1.233236   \n",
       "1    -0.455574   1.196568   -0.317845   -0.309031  3.102389         -0.136361   \n",
       "3     0.593001   2.030567   -0.317845   -0.309031  3.102389          0.960513   \n",
       "4    -0.036144   0.154069   -0.317845   -0.309031  3.102389          0.960513   \n",
       "5    -0.124445  -0.376325   -0.317845   -0.309031  3.102389         -0.136361   \n",
       "\n",
       "    Browser    Region  TrafficType  VisitorType   Weekend  Revenue  \n",
       "0 -0.790241 -0.893929    -0.763172    -0.401915 -0.551171        1  \n",
       "1 -0.207896 -0.893929    -0.514741    -0.401915 -0.551171        1  \n",
       "3 -0.207896 -0.477589    -0.017879    -0.401915 -0.551171        1  \n",
       "4  0.374450 -0.893929    -0.017879    -0.401915  1.814319        1  \n",
       "5 -0.207896 -0.893929    -0.266310    -0.401915 -0.551171        1  "
      ]
     },
     "execution_count": 1071,
     "metadata": {},
     "output_type": "execute_result"
    }
   ],
   "source": [
    "df.head()"
   ]
  },
  {
   "cell_type": "code",
   "execution_count": 1072,
   "id": "86942db6",
   "metadata": {},
   "outputs": [
    {
     "data": {
      "text/html": [
       "<div>\n",
       "<style scoped>\n",
       "    .dataframe tbody tr th:only-of-type {\n",
       "        vertical-align: middle;\n",
       "    }\n",
       "\n",
       "    .dataframe tbody tr th {\n",
       "        vertical-align: top;\n",
       "    }\n",
       "\n",
       "    .dataframe thead th {\n",
       "        text-align: right;\n",
       "    }\n",
       "</style>\n",
       "<table border=\"1\" class=\"dataframe\">\n",
       "  <thead>\n",
       "    <tr style=\"text-align: right;\">\n",
       "      <th></th>\n",
       "      <th>Administrative</th>\n",
       "      <th>Administrative_Duration</th>\n",
       "      <th>Informational</th>\n",
       "      <th>Informational_Duration</th>\n",
       "      <th>ProductRelated</th>\n",
       "      <th>ProductRelated_Duration</th>\n",
       "      <th>BounceRates</th>\n",
       "      <th>ExitRates</th>\n",
       "      <th>PageValues</th>\n",
       "      <th>SpecialDay</th>\n",
       "      <th>Month</th>\n",
       "      <th>OperatingSystems</th>\n",
       "      <th>Browser</th>\n",
       "      <th>Region</th>\n",
       "      <th>TrafficType</th>\n",
       "      <th>VisitorType</th>\n",
       "      <th>Weekend</th>\n",
       "      <th>Revenue</th>\n",
       "    </tr>\n",
       "  </thead>\n",
       "  <tbody>\n",
       "    <tr>\n",
       "      <th>count</th>\n",
       "      <td>1.228300e+04</td>\n",
       "      <td>1.228300e+04</td>\n",
       "      <td>1.228300e+04</td>\n",
       "      <td>1.228300e+04</td>\n",
       "      <td>1.228300e+04</td>\n",
       "      <td>1.228300e+04</td>\n",
       "      <td>1.228300e+04</td>\n",
       "      <td>1.228300e+04</td>\n",
       "      <td>1.228300e+04</td>\n",
       "      <td>1.228300e+04</td>\n",
       "      <td>1.228300e+04</td>\n",
       "      <td>1.228300e+04</td>\n",
       "      <td>1.228300e+04</td>\n",
       "      <td>1.228300e+04</td>\n",
       "      <td>1.228300e+04</td>\n",
       "      <td>1.228300e+04</td>\n",
       "      <td>1.228300e+04</td>\n",
       "      <td>12283.000000</td>\n",
       "    </tr>\n",
       "    <tr>\n",
       "      <th>mean</th>\n",
       "      <td>4.574927e-15</td>\n",
       "      <td>1.315103e-15</td>\n",
       "      <td>3.743756e-15</td>\n",
       "      <td>4.117827e-15</td>\n",
       "      <td>1.255023e-16</td>\n",
       "      <td>6.041555e-16</td>\n",
       "      <td>1.750036e-15</td>\n",
       "      <td>4.167020e-16</td>\n",
       "      <td>-3.150600e-15</td>\n",
       "      <td>-1.470186e-14</td>\n",
       "      <td>-1.012694e-14</td>\n",
       "      <td>1.280006e-15</td>\n",
       "      <td>-9.222679e-16</td>\n",
       "      <td>1.318637e-15</td>\n",
       "      <td>3.039939e-15</td>\n",
       "      <td>-5.498420e-16</td>\n",
       "      <td>-5.482331e-16</td>\n",
       "      <td>1.155337</td>\n",
       "    </tr>\n",
       "    <tr>\n",
       "      <th>std</th>\n",
       "      <td>1.000041e+00</td>\n",
       "      <td>1.000041e+00</td>\n",
       "      <td>1.000041e+00</td>\n",
       "      <td>1.000041e+00</td>\n",
       "      <td>1.000041e+00</td>\n",
       "      <td>1.000041e+00</td>\n",
       "      <td>1.000041e+00</td>\n",
       "      <td>1.000041e+00</td>\n",
       "      <td>1.000041e+00</td>\n",
       "      <td>1.000041e+00</td>\n",
       "      <td>1.000041e+00</td>\n",
       "      <td>1.000041e+00</td>\n",
       "      <td>1.000041e+00</td>\n",
       "      <td>1.000041e+00</td>\n",
       "      <td>1.000041e+00</td>\n",
       "      <td>1.000041e+00</td>\n",
       "      <td>1.000041e+00</td>\n",
       "      <td>0.362240</td>\n",
       "    </tr>\n",
       "    <tr>\n",
       "      <th>min</th>\n",
       "      <td>-6.989074e-01</td>\n",
       "      <td>-4.582377e-01</td>\n",
       "      <td>-3.972470e-01</td>\n",
       "      <td>-2.454083e-01</td>\n",
       "      <td>-7.153369e-01</td>\n",
       "      <td>-6.259615e-01</td>\n",
       "      <td>-4.555744e-01</td>\n",
       "      <td>-8.884298e-01</td>\n",
       "      <td>-3.178453e-01</td>\n",
       "      <td>-3.090308e-01</td>\n",
       "      <td>-9.462930e-01</td>\n",
       "      <td>-1.233236e+00</td>\n",
       "      <td>-7.902412e-01</td>\n",
       "      <td>-8.939293e-01</td>\n",
       "      <td>-7.631722e-01</td>\n",
       "      <td>-4.019153e-01</td>\n",
       "      <td>-5.511709e-01</td>\n",
       "      <td>1.000000</td>\n",
       "    </tr>\n",
       "    <tr>\n",
       "      <th>25%</th>\n",
       "      <td>-6.989074e-01</td>\n",
       "      <td>-4.582377e-01</td>\n",
       "      <td>-3.972470e-01</td>\n",
       "      <td>-2.454083e-01</td>\n",
       "      <td>-5.581029e-01</td>\n",
       "      <td>-5.283029e-01</td>\n",
       "      <td>-4.555744e-01</td>\n",
       "      <td>-5.905730e-01</td>\n",
       "      <td>-3.178453e-01</td>\n",
       "      <td>-3.090308e-01</td>\n",
       "      <td>-9.462930e-01</td>\n",
       "      <td>-1.363615e-01</td>\n",
       "      <td>-2.078958e-01</td>\n",
       "      <td>-8.939293e-01</td>\n",
       "      <td>-5.147412e-01</td>\n",
       "      <td>-4.019153e-01</td>\n",
       "      <td>-5.511709e-01</td>\n",
       "      <td>1.000000</td>\n",
       "    </tr>\n",
       "    <tr>\n",
       "      <th>50%</th>\n",
       "      <td>-3.981549e-01</td>\n",
       "      <td>-4.130501e-01</td>\n",
       "      <td>-3.972470e-01</td>\n",
       "      <td>-2.454083e-01</td>\n",
       "      <td>-3.110209e-01</td>\n",
       "      <td>-3.114809e-01</td>\n",
       "      <td>-3.910467e-01</td>\n",
       "      <td>-3.671804e-01</td>\n",
       "      <td>-3.178453e-01</td>\n",
       "      <td>-3.090308e-01</td>\n",
       "      <td>-4.964394e-01</td>\n",
       "      <td>-1.363615e-01</td>\n",
       "      <td>-2.078958e-01</td>\n",
       "      <td>-6.124939e-02</td>\n",
       "      <td>-5.147412e-01</td>\n",
       "      <td>-4.019153e-01</td>\n",
       "      <td>-5.511709e-01</td>\n",
       "      <td>1.000000</td>\n",
       "    </tr>\n",
       "    <tr>\n",
       "      <th>75%</th>\n",
       "      <td>5.041026e-01</td>\n",
       "      <td>7.243447e-02</td>\n",
       "      <td>-3.972470e-01</td>\n",
       "      <td>-2.454083e-01</td>\n",
       "      <td>1.382191e-01</td>\n",
       "      <td>1.417938e-01</td>\n",
       "      <td>-1.060493e-01</td>\n",
       "      <td>1.540689e-01</td>\n",
       "      <td>-3.178453e-01</td>\n",
       "      <td>-3.090308e-01</td>\n",
       "      <td>4.032678e-01</td>\n",
       "      <td>9.605134e-01</td>\n",
       "      <td>-2.078958e-01</td>\n",
       "      <td>3.550906e-01</td>\n",
       "      <td>-1.787942e-02</td>\n",
       "      <td>-4.019153e-01</td>\n",
       "      <td>-5.511709e-01</td>\n",
       "      <td>1.000000</td>\n",
       "    </tr>\n",
       "    <tr>\n",
       "      <th>max</th>\n",
       "      <td>7.421410e+00</td>\n",
       "      <td>1.873944e+01</td>\n",
       "      <td>1.846939e+01</td>\n",
       "      <td>1.783568e+01</td>\n",
       "      <td>1.512037e+01</td>\n",
       "      <td>3.276563e+01</td>\n",
       "      <td>3.738726e+00</td>\n",
       "      <td>3.281565e+00</td>\n",
       "      <td>1.913224e+01</td>\n",
       "      <td>4.713231e+00</td>\n",
       "      <td>3.102389e+00</td>\n",
       "      <td>6.444888e+00</td>\n",
       "      <td>6.197903e+00</td>\n",
       "      <td>2.436790e+00</td>\n",
       "      <td>3.957015e+00</td>\n",
       "      <td>4.895000e+00</td>\n",
       "      <td>1.814319e+00</td>\n",
       "      <td>2.000000</td>\n",
       "    </tr>\n",
       "  </tbody>\n",
       "</table>\n",
       "</div>"
      ],
      "text/plain": [
       "       Administrative  Administrative_Duration  Informational  \\\n",
       "count    1.228300e+04             1.228300e+04   1.228300e+04   \n",
       "mean     4.574927e-15             1.315103e-15   3.743756e-15   \n",
       "std      1.000041e+00             1.000041e+00   1.000041e+00   \n",
       "min     -6.989074e-01            -4.582377e-01  -3.972470e-01   \n",
       "25%     -6.989074e-01            -4.582377e-01  -3.972470e-01   \n",
       "50%     -3.981549e-01            -4.130501e-01  -3.972470e-01   \n",
       "75%      5.041026e-01             7.243447e-02  -3.972470e-01   \n",
       "max      7.421410e+00             1.873944e+01   1.846939e+01   \n",
       "\n",
       "       Informational_Duration  ProductRelated  ProductRelated_Duration  \\\n",
       "count            1.228300e+04    1.228300e+04             1.228300e+04   \n",
       "mean             4.117827e-15    1.255023e-16             6.041555e-16   \n",
       "std              1.000041e+00    1.000041e+00             1.000041e+00   \n",
       "min             -2.454083e-01   -7.153369e-01            -6.259615e-01   \n",
       "25%             -2.454083e-01   -5.581029e-01            -5.283029e-01   \n",
       "50%             -2.454083e-01   -3.110209e-01            -3.114809e-01   \n",
       "75%             -2.454083e-01    1.382191e-01             1.417938e-01   \n",
       "max              1.783568e+01    1.512037e+01             3.276563e+01   \n",
       "\n",
       "        BounceRates     ExitRates    PageValues    SpecialDay         Month  \\\n",
       "count  1.228300e+04  1.228300e+04  1.228300e+04  1.228300e+04  1.228300e+04   \n",
       "mean   1.750036e-15  4.167020e-16 -3.150600e-15 -1.470186e-14 -1.012694e-14   \n",
       "std    1.000041e+00  1.000041e+00  1.000041e+00  1.000041e+00  1.000041e+00   \n",
       "min   -4.555744e-01 -8.884298e-01 -3.178453e-01 -3.090308e-01 -9.462930e-01   \n",
       "25%   -4.555744e-01 -5.905730e-01 -3.178453e-01 -3.090308e-01 -9.462930e-01   \n",
       "50%   -3.910467e-01 -3.671804e-01 -3.178453e-01 -3.090308e-01 -4.964394e-01   \n",
       "75%   -1.060493e-01  1.540689e-01 -3.178453e-01 -3.090308e-01  4.032678e-01   \n",
       "max    3.738726e+00  3.281565e+00  1.913224e+01  4.713231e+00  3.102389e+00   \n",
       "\n",
       "       OperatingSystems       Browser        Region   TrafficType  \\\n",
       "count      1.228300e+04  1.228300e+04  1.228300e+04  1.228300e+04   \n",
       "mean       1.280006e-15 -9.222679e-16  1.318637e-15  3.039939e-15   \n",
       "std        1.000041e+00  1.000041e+00  1.000041e+00  1.000041e+00   \n",
       "min       -1.233236e+00 -7.902412e-01 -8.939293e-01 -7.631722e-01   \n",
       "25%       -1.363615e-01 -2.078958e-01 -8.939293e-01 -5.147412e-01   \n",
       "50%       -1.363615e-01 -2.078958e-01 -6.124939e-02 -5.147412e-01   \n",
       "75%        9.605134e-01 -2.078958e-01  3.550906e-01 -1.787942e-02   \n",
       "max        6.444888e+00  6.197903e+00  2.436790e+00  3.957015e+00   \n",
       "\n",
       "        VisitorType       Weekend       Revenue  \n",
       "count  1.228300e+04  1.228300e+04  12283.000000  \n",
       "mean  -5.498420e-16 -5.482331e-16      1.155337  \n",
       "std    1.000041e+00  1.000041e+00      0.362240  \n",
       "min   -4.019153e-01 -5.511709e-01      1.000000  \n",
       "25%   -4.019153e-01 -5.511709e-01      1.000000  \n",
       "50%   -4.019153e-01 -5.511709e-01      1.000000  \n",
       "75%   -4.019153e-01 -5.511709e-01      1.000000  \n",
       "max    4.895000e+00  1.814319e+00      2.000000  "
      ]
     },
     "execution_count": 1072,
     "metadata": {},
     "output_type": "execute_result"
    }
   ],
   "source": [
    "df.describe()"
   ]
  },
  {
   "cell_type": "code",
   "execution_count": 1073,
   "id": "7a14aba0",
   "metadata": {},
   "outputs": [
    {
     "data": {
      "text/html": [
       "<div>\n",
       "<style scoped>\n",
       "    .dataframe tbody tr th:only-of-type {\n",
       "        vertical-align: middle;\n",
       "    }\n",
       "\n",
       "    .dataframe tbody tr th {\n",
       "        vertical-align: top;\n",
       "    }\n",
       "\n",
       "    .dataframe thead th {\n",
       "        text-align: right;\n",
       "    }\n",
       "</style>\n",
       "<table border=\"1\" class=\"dataframe\">\n",
       "  <thead>\n",
       "    <tr style=\"text-align: right;\">\n",
       "      <th></th>\n",
       "      <th>Administrative</th>\n",
       "      <th>Administrative_Duration</th>\n",
       "      <th>Informational</th>\n",
       "      <th>Informational_Duration</th>\n",
       "      <th>ProductRelated</th>\n",
       "      <th>ProductRelated_Duration</th>\n",
       "      <th>BounceRates</th>\n",
       "      <th>ExitRates</th>\n",
       "      <th>PageValues</th>\n",
       "      <th>SpecialDay</th>\n",
       "      <th>Month</th>\n",
       "      <th>OperatingSystems</th>\n",
       "      <th>Browser</th>\n",
       "      <th>Region</th>\n",
       "      <th>TrafficType</th>\n",
       "      <th>VisitorType</th>\n",
       "      <th>Weekend</th>\n",
       "      <th>Revenue</th>\n",
       "    </tr>\n",
       "  </thead>\n",
       "  <tbody>\n",
       "    <tr>\n",
       "      <th>Administrative</th>\n",
       "      <td>1.000000</td>\n",
       "      <td>0.601171</td>\n",
       "      <td>0.376374</td>\n",
       "      <td>0.255479</td>\n",
       "      <td>0.430116</td>\n",
       "      <td>0.372935</td>\n",
       "      <td>-0.221188</td>\n",
       "      <td>-0.314919</td>\n",
       "      <td>0.098267</td>\n",
       "      <td>-0.095300</td>\n",
       "      <td>0.039962</td>\n",
       "      <td>-0.006594</td>\n",
       "      <td>-0.025055</td>\n",
       "      <td>-0.005385</td>\n",
       "      <td>-0.034072</td>\n",
       "      <td>0.015649</td>\n",
       "      <td>0.025780</td>\n",
       "      <td>0.137970</td>\n",
       "    </tr>\n",
       "    <tr>\n",
       "      <th>Administrative_Duration</th>\n",
       "      <td>0.601171</td>\n",
       "      <td>1.000000</td>\n",
       "      <td>0.302304</td>\n",
       "      <td>0.237734</td>\n",
       "      <td>0.288277</td>\n",
       "      <td>0.354749</td>\n",
       "      <td>-0.142435</td>\n",
       "      <td>-0.204583</td>\n",
       "      <td>0.067096</td>\n",
       "      <td>-0.073636</td>\n",
       "      <td>0.011781</td>\n",
       "      <td>-0.007523</td>\n",
       "      <td>-0.015399</td>\n",
       "      <td>-0.005517</td>\n",
       "      <td>-0.014680</td>\n",
       "      <td>0.018435</td>\n",
       "      <td>0.014586</td>\n",
       "      <td>0.092911</td>\n",
       "    </tr>\n",
       "    <tr>\n",
       "      <th>Informational</th>\n",
       "      <td>0.376374</td>\n",
       "      <td>0.302304</td>\n",
       "      <td>1.000000</td>\n",
       "      <td>0.618880</td>\n",
       "      <td>0.373680</td>\n",
       "      <td>0.387065</td>\n",
       "      <td>-0.114485</td>\n",
       "      <td>-0.162471</td>\n",
       "      <td>0.048217</td>\n",
       "      <td>-0.048448</td>\n",
       "      <td>-0.003190</td>\n",
       "      <td>-0.009522</td>\n",
       "      <td>-0.038197</td>\n",
       "      <td>-0.029341</td>\n",
       "      <td>-0.034704</td>\n",
       "      <td>-0.058807</td>\n",
       "      <td>0.035234</td>\n",
       "      <td>0.094672</td>\n",
       "    </tr>\n",
       "    <tr>\n",
       "      <th>Informational_Duration</th>\n",
       "      <td>0.255479</td>\n",
       "      <td>0.237734</td>\n",
       "      <td>0.618880</td>\n",
       "      <td>1.000000</td>\n",
       "      <td>0.279701</td>\n",
       "      <td>0.347088</td>\n",
       "      <td>-0.073064</td>\n",
       "      <td>-0.104530</td>\n",
       "      <td>0.030579</td>\n",
       "      <td>-0.030731</td>\n",
       "      <td>-0.000807</td>\n",
       "      <td>-0.009656</td>\n",
       "      <td>-0.019296</td>\n",
       "      <td>-0.027190</td>\n",
       "      <td>-0.024855</td>\n",
       "      <td>-0.045760</td>\n",
       "      <td>0.023847</td>\n",
       "      <td>0.069984</td>\n",
       "    </tr>\n",
       "    <tr>\n",
       "      <th>ProductRelated</th>\n",
       "      <td>0.430116</td>\n",
       "      <td>0.288277</td>\n",
       "      <td>0.373680</td>\n",
       "      <td>0.279701</td>\n",
       "      <td>1.000000</td>\n",
       "      <td>0.860711</td>\n",
       "      <td>-0.201828</td>\n",
       "      <td>-0.290579</td>\n",
       "      <td>0.055521</td>\n",
       "      <td>-0.024348</td>\n",
       "      <td>-0.004518</td>\n",
       "      <td>0.004071</td>\n",
       "      <td>-0.013122</td>\n",
       "      <td>-0.038137</td>\n",
       "      <td>-0.043569</td>\n",
       "      <td>-0.129106</td>\n",
       "      <td>0.015496</td>\n",
       "      <td>0.157624</td>\n",
       "    </tr>\n",
       "  </tbody>\n",
       "</table>\n",
       "</div>"
      ],
      "text/plain": [
       "                         Administrative  Administrative_Duration  \\\n",
       "Administrative                 1.000000                 0.601171   \n",
       "Administrative_Duration        0.601171                 1.000000   \n",
       "Informational                  0.376374                 0.302304   \n",
       "Informational_Duration         0.255479                 0.237734   \n",
       "ProductRelated                 0.430116                 0.288277   \n",
       "\n",
       "                         Informational  Informational_Duration  \\\n",
       "Administrative                0.376374                0.255479   \n",
       "Administrative_Duration       0.302304                0.237734   \n",
       "Informational                 1.000000                0.618880   \n",
       "Informational_Duration        0.618880                1.000000   \n",
       "ProductRelated                0.373680                0.279701   \n",
       "\n",
       "                         ProductRelated  ProductRelated_Duration  BounceRates  \\\n",
       "Administrative                 0.430116                 0.372935    -0.221188   \n",
       "Administrative_Duration        0.288277                 0.354749    -0.142435   \n",
       "Informational                  0.373680                 0.387065    -0.114485   \n",
       "Informational_Duration         0.279701                 0.347088    -0.073064   \n",
       "ProductRelated                 1.000000                 0.860711    -0.201828   \n",
       "\n",
       "                         ExitRates  PageValues  SpecialDay     Month  \\\n",
       "Administrative           -0.314919    0.098267   -0.095300  0.039962   \n",
       "Administrative_Duration  -0.204583    0.067096   -0.073636  0.011781   \n",
       "Informational            -0.162471    0.048217   -0.048448 -0.003190   \n",
       "Informational_Duration   -0.104530    0.030579   -0.030731 -0.000807   \n",
       "ProductRelated           -0.290579    0.055521   -0.024348 -0.004518   \n",
       "\n",
       "                         OperatingSystems   Browser    Region  TrafficType  \\\n",
       "Administrative                  -0.006594 -0.025055 -0.005385    -0.034072   \n",
       "Administrative_Duration         -0.007523 -0.015399 -0.005517    -0.014680   \n",
       "Informational                   -0.009522 -0.038197 -0.029341    -0.034704   \n",
       "Informational_Duration          -0.009656 -0.019296 -0.027190    -0.024855   \n",
       "ProductRelated                   0.004071 -0.013122 -0.038137    -0.043569   \n",
       "\n",
       "                         VisitorType   Weekend   Revenue  \n",
       "Administrative              0.015649  0.025780  0.137970  \n",
       "Administrative_Duration     0.018435  0.014586  0.092911  \n",
       "Informational              -0.058807  0.035234  0.094672  \n",
       "Informational_Duration     -0.045760  0.023847  0.069984  \n",
       "ProductRelated             -0.129106  0.015496  0.157624  "
      ]
     },
     "execution_count": 1073,
     "metadata": {},
     "output_type": "execute_result"
    }
   ],
   "source": [
    "corr = df.corr(method=\"pearson\")\n",
    "corr.head()"
   ]
  },
  {
   "cell_type": "code",
   "execution_count": 1074,
   "id": "6ff6c60e",
   "metadata": {},
   "outputs": [],
   "source": [
    "import matplotlib.pyplot as plt\n",
    "import seaborn as sns"
   ]
  },
  {
   "cell_type": "code",
   "execution_count": 1075,
   "id": "f8f5d581",
   "metadata": {},
   "outputs": [
    {
     "data": {
      "image/png": "[encoded data removed]",
      "text/plain": [
       "<Figure size 1296x576 with 2 Axes>"
      ]
     },
     "metadata": {
      "needs_background": "light"
     },
     "output_type": "display_data"
    }
   ],
   "source": [
    "plt.figure(figsize=(18,8))\n",
    "sns.heatmap(corr, annot=True, annot_kws={\"size\":9}, fmt=\"0.2f\")\n",
    "plt.show()"
   ]
  },
  {
   "cell_type": "code",
   "execution_count": 1076,
   "id": "3071d523",
   "metadata": {},
   "outputs": [
    {
     "data": {
      "text/plain": [
       "[0.13796981861526525,\n",
       " 0.09291149355015174,\n",
       " 0.09467241450209762,\n",
       " 0.06998354694413166,\n",
       " 0.15762433876462859,\n",
       " 0.15152794540687842,\n",
       " -0.14934778022367295,\n",
       " -0.20614547059815264,\n",
       " 0.49231720815966273,\n",
       " -0.08263186998143683,\n",
       " -0.01563019306970006,\n",
       " -0.014841012469335188,\n",
       " 0.024063467171549908,\n",
       " -0.011574735503028408,\n",
       " -0.005378089415888386,\n",
       " 0.097892698361337,\n",
       " 0.028936666543794204]"
      ]
     },
     "execution_count": 1076,
     "metadata": {},
     "output_type": "execute_result"
    }
   ],
   "source": [
    "cor1 = corr.Revenue.values.tolist()\n",
    "cor1 = cor1[0:len(cor1)-1:1]\n",
    "cor1"
   ]
  },
  {
   "cell_type": "code",
   "execution_count": 1077,
   "id": "d4de222a",
   "metadata": {},
   "outputs": [
    {
     "data": {
      "text/plain": [
       "[0.49231720815966273,\n",
       " 0.15762433876462859,\n",
       " 0.15152794540687842,\n",
       " 0.13796981861526525,\n",
       " 0.097892698361337,\n",
       " 0.09467241450209762,\n",
       " 0.09291149355015174,\n",
       " 0.06998354694413166,\n",
       " 0.028936666543794204,\n",
       " 0.024063467171549908,\n",
       " -0.005378089415888386,\n",
       " -0.011574735503028408,\n",
       " -0.014841012469335188,\n",
       " -0.01563019306970006,\n",
       " -0.08263186998143683,\n",
       " -0.14934778022367295,\n",
       " -0.20614547059815264]"
      ]
     },
     "execution_count": 1077,
     "metadata": {},
     "output_type": "execute_result"
    }
   ],
   "source": [
    "cors = np.sort(cor1).tolist()\n",
    "cors = cors[-1::-1]\n",
    "cors"
   ]
  },
  {
   "cell_type": "code",
   "execution_count": 1078,
   "id": "f4f50dbd",
   "metadata": {},
   "outputs": [
    {
     "data": {
      "text/plain": [
       "[8, 4, 5, 0, 15, 2, 1, 3, 16, 12, 14, 13, 11, 10, 9, 6, 7]"
      ]
     },
     "execution_count": 1078,
     "metadata": {},
     "output_type": "execute_result"
    }
   ],
   "source": [
    "idx = np.argsort(cor1).tolist()\n",
    "idx = idx[-1::-1]\n",
    "idx"
   ]
  },
  {
   "cell_type": "code",
   "execution_count": 1079,
   "id": "54b6299b",
   "metadata": {},
   "outputs": [
    {
     "data": {
      "text/plain": [
       "['PageValues',\n",
       " 'ProductRelated',\n",
       " 'ProductRelated_Duration',\n",
       " 'Administrative',\n",
       " 'VisitorType',\n",
       " 'Informational',\n",
       " 'Administrative_Duration',\n",
       " 'Informational_Duration',\n",
       " 'Weekend',\n",
       " 'Browser',\n",
       " 'TrafficType',\n",
       " 'Region',\n",
       " 'OperatingSystems',\n",
       " 'Month',\n",
       " 'SpecialDay',\n",
       " 'BounceRates',\n",
       " 'ExitRates']"
      ]
     },
     "execution_count": 1079,
     "metadata": {},
     "output_type": "execute_result"
    }
   ],
   "source": [
    "c_attr = []\n",
    "for i in idx:\n",
    "    c_attr.append(cols1[i])\n",
    "    \n",
    "c_attr"
   ]
  },
  {
   "cell_type": "code",
   "execution_count": 1080,
   "id": "2db4370d",
   "metadata": {},
   "outputs": [
    {
     "data": {
      "text/plain": [
       "(17, 17)"
      ]
     },
     "execution_count": 1080,
     "metadata": {},
     "output_type": "execute_result"
    }
   ],
   "source": [
    "len(c_attr), len(idx)"
   ]
  },
  {
   "cell_type": "code",
   "execution_count": 1081,
   "id": "1b7f7bc8",
   "metadata": {},
   "outputs": [
    {
     "data": {
      "text/html": [
       "<div>\n",
       "<style scoped>\n",
       "    .dataframe tbody tr th:only-of-type {\n",
       "        vertical-align: middle;\n",
       "    }\n",
       "\n",
       "    .dataframe tbody tr th {\n",
       "        vertical-align: top;\n",
       "    }\n",
       "\n",
       "    .dataframe thead th {\n",
       "        text-align: right;\n",
       "    }\n",
       "</style>\n",
       "<table border=\"1\" class=\"dataframe\">\n",
       "  <thead>\n",
       "    <tr style=\"text-align: right;\">\n",
       "      <th></th>\n",
       "      <th>attr</th>\n",
       "      <th>cor</th>\n",
       "    </tr>\n",
       "  </thead>\n",
       "  <tbody>\n",
       "    <tr>\n",
       "      <th>0</th>\n",
       "      <td>PageValues</td>\n",
       "      <td>0.492317</td>\n",
       "    </tr>\n",
       "    <tr>\n",
       "      <th>1</th>\n",
       "      <td>ProductRelated</td>\n",
       "      <td>0.157624</td>\n",
       "    </tr>\n",
       "    <tr>\n",
       "      <th>2</th>\n",
       "      <td>ProductRelated_Duration</td>\n",
       "      <td>0.151528</td>\n",
       "    </tr>\n",
       "    <tr>\n",
       "      <th>3</th>\n",
       "      <td>Administrative</td>\n",
       "      <td>0.137970</td>\n",
       "    </tr>\n",
       "    <tr>\n",
       "      <th>4</th>\n",
       "      <td>VisitorType</td>\n",
       "      <td>0.097893</td>\n",
       "    </tr>\n",
       "    <tr>\n",
       "      <th>5</th>\n",
       "      <td>Informational</td>\n",
       "      <td>0.094672</td>\n",
       "    </tr>\n",
       "    <tr>\n",
       "      <th>6</th>\n",
       "      <td>Administrative_Duration</td>\n",
       "      <td>0.092911</td>\n",
       "    </tr>\n",
       "    <tr>\n",
       "      <th>7</th>\n",
       "      <td>Informational_Duration</td>\n",
       "      <td>0.069984</td>\n",
       "    </tr>\n",
       "    <tr>\n",
       "      <th>8</th>\n",
       "      <td>Weekend</td>\n",
       "      <td>0.028937</td>\n",
       "    </tr>\n",
       "    <tr>\n",
       "      <th>9</th>\n",
       "      <td>Browser</td>\n",
       "      <td>0.024063</td>\n",
       "    </tr>\n",
       "    <tr>\n",
       "      <th>10</th>\n",
       "      <td>TrafficType</td>\n",
       "      <td>-0.005378</td>\n",
       "    </tr>\n",
       "    <tr>\n",
       "      <th>11</th>\n",
       "      <td>Region</td>\n",
       "      <td>-0.011575</td>\n",
       "    </tr>\n",
       "    <tr>\n",
       "      <th>12</th>\n",
       "      <td>OperatingSystems</td>\n",
       "      <td>-0.014841</td>\n",
       "    </tr>\n",
       "    <tr>\n",
       "      <th>13</th>\n",
       "      <td>Month</td>\n",
       "      <td>-0.015630</td>\n",
       "    </tr>\n",
       "    <tr>\n",
       "      <th>14</th>\n",
       "      <td>SpecialDay</td>\n",
       "      <td>-0.082632</td>\n",
       "    </tr>\n",
       "    <tr>\n",
       "      <th>15</th>\n",
       "      <td>BounceRates</td>\n",
       "      <td>-0.149348</td>\n",
       "    </tr>\n",
       "    <tr>\n",
       "      <th>16</th>\n",
       "      <td>ExitRates</td>\n",
       "      <td>-0.206145</td>\n",
       "    </tr>\n",
       "  </tbody>\n",
       "</table>\n",
       "</div>"
      ],
      "text/plain": [
       "                       attr       cor\n",
       "0                PageValues  0.492317\n",
       "1            ProductRelated  0.157624\n",
       "2   ProductRelated_Duration  0.151528\n",
       "3            Administrative  0.137970\n",
       "4               VisitorType  0.097893\n",
       "5             Informational  0.094672\n",
       "6   Administrative_Duration  0.092911\n",
       "7    Informational_Duration  0.069984\n",
       "8                   Weekend  0.028937\n",
       "9                   Browser  0.024063\n",
       "10              TrafficType -0.005378\n",
       "11                   Region -0.011575\n",
       "12         OperatingSystems -0.014841\n",
       "13                    Month -0.015630\n",
       "14               SpecialDay -0.082632\n",
       "15              BounceRates -0.149348\n",
       "16                ExitRates -0.206145"
      ]
     },
     "execution_count": 1081,
     "metadata": {},
     "output_type": "execute_result"
    }
   ],
   "source": [
    "cor_r = pd.DataFrame({\"attr\":c_attr})\n",
    "cor_r[\"cor\"] = cors\n",
    "cor_r"
   ]
  },
  {
   "cell_type": "code",
   "execution_count": 1082,
   "id": "0ab8c44b",
   "metadata": {
    "scrolled": true
   },
   "outputs": [
    {
     "name": "stdout",
     "output_type": "stream",
     "text": [
      "                                            attr       cor\n",
      "attr                                                      \n",
      "PageValues                            PageValues  0.492317\n",
      "ProductRelated                    ProductRelated  0.157624\n",
      "ProductRelated_Duration  ProductRelated_Duration  0.151528\n",
      "Administrative                    Administrative  0.137970\n",
      "VisitorType                          VisitorType  0.097893\n",
      "Informational                      Informational  0.094672\n",
      "Administrative_Duration  Administrative_Duration  0.092911\n",
      "Informational_Duration    Informational_Duration  0.069984\n",
      "Weekend                                  Weekend  0.028937\n",
      "Browser                                  Browser  0.024063\n",
      "TrafficType                          TrafficType -0.005378\n",
      "Region                                    Region -0.011575\n",
      "OperatingSystems                OperatingSystems -0.014841\n",
      "Month                                      Month -0.015630\n",
      "SpecialDay                            SpecialDay -0.082632\n",
      "BounceRates                          BounceRates -0.149348\n",
      "ExitRates                              ExitRates -0.206145\n"
     ]
    }
   ],
   "source": [
    "cor_r = cor_r.set_index(cor_r['attr'])\n",
    "print(cor_r)"
   ]
  },
  {
   "cell_type": "code",
   "execution_count": 1083,
   "id": "929e20d1",
   "metadata": {},
   "outputs": [
    {
     "data": {
      "text/plain": [
       "<AxesSubplot:ylabel='attr'>"
      ]
     },
     "execution_count": 1083,
     "metadata": {},
     "output_type": "execute_result"
    },
    {
     "data": {
      "image/png": "[encoded data removed]",
      "text/plain": [
       "<Figure size 720x576 with 1 Axes>"
      ]
     },
     "metadata": {
      "needs_background": "light"
     },
     "output_type": "display_data"
    }
   ],
   "source": [
    "plt.figure(figsize=(10,8))\n",
    "cor_r['cor'].plot(kind='barh')\n"
   ]
  },
  {
   "cell_type": "markdown",
   "id": "0d441ddc",
   "metadata": {},
   "source": [
    "# Attribute "
   ]
  },
  {
   "cell_type": "code",
   "execution_count": 1084,
   "id": "4c7ebffc",
   "metadata": {},
   "outputs": [
    {
     "data": {
      "text/plain": [
       "['PageValues',\n",
       " 'ProductRelated',\n",
       " 'ProductRelated_Duration',\n",
       " 'Administrative',\n",
       " 'VisitorType',\n",
       " 'Informational',\n",
       " 'Administrative_Duration',\n",
       " 'Informational_Duration',\n",
       " 'Weekend',\n",
       " 'Browser',\n",
       " 'TrafficType',\n",
       " 'Region',\n",
       " 'OperatingSystems',\n",
       " 'Month',\n",
       " 'SpecialDay',\n",
       " 'BounceRates',\n",
       " 'ExitRates']"
      ]
     },
     "execution_count": 1084,
     "metadata": {},
     "output_type": "execute_result"
    }
   ],
   "source": [
    "c_attr"
   ]
  },
  {
   "cell_type": "code",
   "execution_count": null,
   "id": "9886297e",
   "metadata": {},
   "outputs": [],
   "source": []
  },
  {
   "cell_type": "code",
   "execution_count": 1085,
   "id": "1651177f",
   "metadata": {},
   "outputs": [
    {
     "data": {
      "text/plain": [
       "['PageValues',\n",
       " 'ProductRelated',\n",
       " 'ProductRelated_Duration',\n",
       " 'Administrative',\n",
       " 'VisitorType']"
      ]
     },
     "execution_count": 1085,
     "metadata": {},
     "output_type": "execute_result"
    }
   ],
   "source": [
    "cset1 = c_attr[0:5]\n",
    "cset1"
   ]
  },
  {
   "cell_type": "code",
   "execution_count": 1086,
   "id": "46d37a09",
   "metadata": {},
   "outputs": [
    {
     "data": {
      "text/plain": [
       "['ExitRates', 'BounceRates', 'SpecialDay']"
      ]
     },
     "execution_count": 1086,
     "metadata": {},
     "output_type": "execute_result"
    }
   ],
   "source": [
    "c_attr1 = c_attr[-1::-1]\n",
    "cset2 = c_attr1[0:3]\n",
    "cset2"
   ]
  },
  {
   "cell_type": "code",
   "execution_count": 1087,
   "id": "43ede468",
   "metadata": {},
   "outputs": [
    {
     "data": {
      "text/plain": [
       "['PageValues',\n",
       " 'ProductRelated',\n",
       " 'ProductRelated_Duration',\n",
       " 'Administrative',\n",
       " 'VisitorType',\n",
       " 'ExitRates',\n",
       " 'BounceRates',\n",
       " 'SpecialDay']"
      ]
     },
     "execution_count": 1087,
     "metadata": {},
     "output_type": "execute_result"
    }
   ],
   "source": [
    "cols_s = cset1+cset2\n",
    "cols_s"
   ]
  },
  {
   "cell_type": "code",
   "execution_count": null,
   "id": "e34258e1",
   "metadata": {},
   "outputs": [],
   "source": []
  },
  {
   "cell_type": "code",
   "execution_count": 1088,
   "id": "24a0d742",
   "metadata": {},
   "outputs": [],
   "source": [
    "df2 = df.copy()"
   ]
  },
  {
   "cell_type": "code",
   "execution_count": 1089,
   "id": "3a988a3e",
   "metadata": {},
   "outputs": [
    {
     "data": {
      "text/html": [
       "<div>\n",
       "<style scoped>\n",
       "    .dataframe tbody tr th:only-of-type {\n",
       "        vertical-align: middle;\n",
       "    }\n",
       "\n",
       "    .dataframe tbody tr th {\n",
       "        vertical-align: top;\n",
       "    }\n",
       "\n",
       "    .dataframe thead th {\n",
       "        text-align: right;\n",
       "    }\n",
       "</style>\n",
       "<table border=\"1\" class=\"dataframe\">\n",
       "  <thead>\n",
       "    <tr style=\"text-align: right;\">\n",
       "      <th></th>\n",
       "      <th>PageValues</th>\n",
       "      <th>ProductRelated</th>\n",
       "      <th>ProductRelated_Duration</th>\n",
       "      <th>Administrative</th>\n",
       "      <th>VisitorType</th>\n",
       "      <th>ExitRates</th>\n",
       "      <th>BounceRates</th>\n",
       "      <th>SpecialDay</th>\n",
       "      <th>Revenue</th>\n",
       "    </tr>\n",
       "  </thead>\n",
       "  <tbody>\n",
       "    <tr>\n",
       "      <th>0</th>\n",
       "      <td>-0.317845</td>\n",
       "      <td>-0.692875</td>\n",
       "      <td>-0.625962</td>\n",
       "      <td>-0.698907</td>\n",
       "      <td>-0.401915</td>\n",
       "      <td>3.281565</td>\n",
       "      <td>3.738726</td>\n",
       "      <td>-0.309031</td>\n",
       "      <td>1</td>\n",
       "    </tr>\n",
       "    <tr>\n",
       "      <th>1</th>\n",
       "      <td>-0.317845</td>\n",
       "      <td>-0.670413</td>\n",
       "      <td>-0.592556</td>\n",
       "      <td>-0.698907</td>\n",
       "      <td>-0.401915</td>\n",
       "      <td>1.196568</td>\n",
       "      <td>-0.455574</td>\n",
       "      <td>-0.309031</td>\n",
       "      <td>1</td>\n",
       "    </tr>\n",
       "    <tr>\n",
       "      <th>3</th>\n",
       "      <td>-0.317845</td>\n",
       "      <td>-0.670413</td>\n",
       "      <td>-0.624570</td>\n",
       "      <td>-0.698907</td>\n",
       "      <td>-0.401915</td>\n",
       "      <td>2.030567</td>\n",
       "      <td>0.593001</td>\n",
       "      <td>-0.309031</td>\n",
       "      <td>1</td>\n",
       "    </tr>\n",
       "    <tr>\n",
       "      <th>4</th>\n",
       "      <td>-0.317845</td>\n",
       "      <td>-0.490717</td>\n",
       "      <td>-0.298432</td>\n",
       "      <td>-0.698907</td>\n",
       "      <td>-0.401915</td>\n",
       "      <td>0.154069</td>\n",
       "      <td>-0.036144</td>\n",
       "      <td>-0.309031</td>\n",
       "      <td>1</td>\n",
       "    </tr>\n",
       "    <tr>\n",
       "      <th>5</th>\n",
       "      <td>-0.317845</td>\n",
       "      <td>-0.288559</td>\n",
       "      <td>-0.545467</td>\n",
       "      <td>-0.698907</td>\n",
       "      <td>-0.401915</td>\n",
       "      <td>-0.376325</td>\n",
       "      <td>-0.124445</td>\n",
       "      <td>-0.309031</td>\n",
       "      <td>1</td>\n",
       "    </tr>\n",
       "  </tbody>\n",
       "</table>\n",
       "</div>"
      ],
      "text/plain": [
       "   PageValues  ProductRelated  ProductRelated_Duration  Administrative  \\\n",
       "0   -0.317845       -0.692875                -0.625962       -0.698907   \n",
       "1   -0.317845       -0.670413                -0.592556       -0.698907   \n",
       "3   -0.317845       -0.670413                -0.624570       -0.698907   \n",
       "4   -0.317845       -0.490717                -0.298432       -0.698907   \n",
       "5   -0.317845       -0.288559                -0.545467       -0.698907   \n",
       "\n",
       "   VisitorType  ExitRates  BounceRates  SpecialDay  Revenue  \n",
       "0    -0.401915   3.281565     3.738726   -0.309031        1  \n",
       "1    -0.401915   1.196568    -0.455574   -0.309031        1  \n",
       "3    -0.401915   2.030567     0.593001   -0.309031        1  \n",
       "4    -0.401915   0.154069    -0.036144   -0.309031        1  \n",
       "5    -0.401915  -0.376325    -0.124445   -0.309031        1  "
      ]
     },
     "execution_count": 1089,
     "metadata": {},
     "output_type": "execute_result"
    }
   ],
   "source": [
    "df = df[cols_s]\n",
    "df[\"Revenue\"] = y\n",
    "df.head()"
   ]
  },
  {
   "cell_type": "code",
   "execution_count": 1090,
   "id": "6cbf9992",
   "metadata": {},
   "outputs": [
    {
     "data": {
      "text/plain": [
       "(12283, 9)"
      ]
     },
     "execution_count": 1090,
     "metadata": {},
     "output_type": "execute_result"
    }
   ],
   "source": [
    "df.shape"
   ]
  },
  {
   "cell_type": "code",
   "execution_count": null,
   "id": "6675b7cc",
   "metadata": {},
   "outputs": [],
   "source": []
  },
  {
   "cell_type": "markdown",
   "id": "b98c1118",
   "metadata": {},
   "source": [
    "# Random Collection"
   ]
  },
  {
   "cell_type": "code",
   "execution_count": 1091,
   "id": "0e3e9f09",
   "metadata": {},
   "outputs": [],
   "source": [
    "from collections import Counter"
   ]
  },
  {
   "cell_type": "code",
   "execution_count": 1092,
   "id": "5e8175c1",
   "metadata": {},
   "outputs": [
    {
     "data": {
      "text/plain": [
       "(12283,)"
      ]
     },
     "execution_count": 1092,
     "metadata": {},
     "output_type": "execute_result"
    }
   ],
   "source": [
    "n = len(df)\n",
    "idx1 = np.arange(n).tolist()\n",
    "\n",
    "np.shape(idx1)"
   ]
  },
  {
   "cell_type": "markdown",
   "id": "0d446c7b",
   "metadata": {},
   "source": [
    "# Change parameter"
   ]
  },
  {
   "cell_type": "code",
   "execution_count": 1093,
   "id": "c0a6a53a",
   "metadata": {},
   "outputs": [
    {
     "data": {
      "text/plain": [
       "(1000,)"
      ]
     },
     "execution_count": 1093,
     "metadata": {},
     "output_type": "execute_result"
    }
   ],
   "source": [
    "r_c = np.random.choice(idx1, 1000)\n",
    "r_c.shape"
   ]
  },
  {
   "cell_type": "code",
   "execution_count": 1094,
   "id": "518a6fd1",
   "metadata": {},
   "outputs": [
    {
     "data": {
      "text/plain": [
       "[(324, 3), (6523, 3), (802, 2), (4231, 2), (11766, 2)]"
      ]
     },
     "execution_count": 1094,
     "metadata": {},
     "output_type": "execute_result"
    }
   ],
   "source": [
    "c = Counter(r_c)\n",
    "c.most_common()[0:5]"
   ]
  },
  {
   "cell_type": "code",
   "execution_count": 1095,
   "id": "8f44a779",
   "metadata": {},
   "outputs": [
    {
     "data": {
      "text/plain": [
       "[(5640, 1), (6936, 1), (8039, 1), (12119, 1), (79, 1)]"
      ]
     },
     "execution_count": 1095,
     "metadata": {},
     "output_type": "execute_result"
    }
   ],
   "source": [
    "cl = list(c)\n",
    "c1 = Counter(cl)\n",
    "c1.most_common()[0:5]"
   ]
  },
  {
   "cell_type": "code",
   "execution_count": 1096,
   "id": "568c13ce",
   "metadata": {},
   "outputs": [
    {
     "data": {
      "text/plain": [
       "[5640, 6936, 8039, 12119, 79]"
      ]
     },
     "execution_count": 1096,
     "metadata": {},
     "output_type": "execute_result"
    }
   ],
   "source": [
    "cl[0:5]"
   ]
  },
  {
   "cell_type": "code",
   "execution_count": 1097,
   "id": "c6916b08",
   "metadata": {},
   "outputs": [
    {
     "data": {
      "text/plain": [
       "(967,)"
      ]
     },
     "execution_count": 1097,
     "metadata": {},
     "output_type": "execute_result"
    }
   ],
   "source": [
    "np.shape(cl)"
   ]
  },
  {
   "cell_type": "code",
   "execution_count": 1098,
   "id": "999d1e37",
   "metadata": {},
   "outputs": [
    {
     "data": {
      "text/plain": [
       "(967,)"
      ]
     },
     "execution_count": 1098,
     "metadata": {},
     "output_type": "execute_result"
    }
   ],
   "source": [
    "clu = np.unique(cl)\n",
    "np.shape(clu)"
   ]
  },
  {
   "cell_type": "code",
   "execution_count": 1099,
   "id": "5c8268f0",
   "metadata": {},
   "outputs": [
    {
     "data": {
      "text/plain": [
       "(967, 9)"
      ]
     },
     "execution_count": 1099,
     "metadata": {},
     "output_type": "execute_result"
    }
   ],
   "source": [
    "df = df.iloc[cl, :]\n",
    "df.shape"
   ]
  },
  {
   "cell_type": "code",
   "execution_count": null,
   "id": "501544e5",
   "metadata": {},
   "outputs": [],
   "source": []
  },
  {
   "cell_type": "markdown",
   "id": "589a0d5e",
   "metadata": {},
   "source": [
    "# ML"
   ]
  },
  {
   "cell_type": "code",
   "execution_count": 1100,
   "id": "26805ae8",
   "metadata": {},
   "outputs": [],
   "source": [
    "from sklearn.model_selection import train_test_split, GridSearchCV\n"
   ]
  },
  {
   "cell_type": "code",
   "execution_count": 1101,
   "id": "3ea2c473",
   "metadata": {},
   "outputs": [
    {
     "data": {
      "text/plain": [
       "((967, 8), (967,))"
      ]
     },
     "execution_count": 1101,
     "metadata": {},
     "output_type": "execute_result"
    }
   ],
   "source": [
    "X = df[cols_s].values\n",
    "y = df[\"Revenue\"].values\n",
    "X.shape, y.shape"
   ]
  },
  {
   "cell_type": "code",
   "execution_count": 1102,
   "id": "d0be966a",
   "metadata": {},
   "outputs": [
    {
     "data": {
      "text/plain": [
       "((676, 8), (291, 8), (676,), (291,))"
      ]
     },
     "execution_count": 1102,
     "metadata": {},
     "output_type": "execute_result"
    }
   ],
   "source": [
    "x_tr, x_t, y_tr, y_t = train_test_split(X, y, test_size=0.3, random_state=100)\n",
    "x_tr.shape, x_t.shape, y_tr.shape, y_t.shape"
   ]
  },
  {
   "cell_type": "code",
   "execution_count": 1103,
   "id": "7cc8e5a8",
   "metadata": {},
   "outputs": [],
   "source": [
    "from sklearn import svm\n",
    "from sklearn.svm import SVC"
   ]
  },
  {
   "cell_type": "code",
   "execution_count": 1104,
   "id": "5737b2e6",
   "metadata": {},
   "outputs": [],
   "source": [
    "clf = GridSearchCV(svm.SVC(gamma='auto'), {'C':[1,10,20], 'kernel':['rbf','linear']}, cv=5, return_train_score=False)"
   ]
  },
  {
   "cell_type": "code",
   "execution_count": 1105,
   "id": "78b8e5b7",
   "metadata": {},
   "outputs": [],
   "source": [
    "clf.fit(x_tr, y_tr)\n",
    "res = pd.DataFrame(clf.cv_results_)"
   ]
  },
  {
   "cell_type": "code",
   "execution_count": 1106,
   "id": "bd86f501",
   "metadata": {},
   "outputs": [
    {
     "data": {
      "text/plain": [
       "Index(['mean_fit_time', 'std_fit_time', 'mean_score_time', 'std_score_time',\n",
       "       'param_C', 'param_kernel', 'params', 'split0_test_score',\n",
       "       'split1_test_score', 'split2_test_score', 'split3_test_score',\n",
       "       'split4_test_score', 'mean_test_score', 'std_test_score',\n",
       "       'rank_test_score'],\n",
       "      dtype='object')"
      ]
     },
     "execution_count": 1106,
     "metadata": {},
     "output_type": "execute_result"
    }
   ],
   "source": [
    "res.columns"
   ]
  },
  {
   "cell_type": "code",
   "execution_count": 1107,
   "id": "3937e23a",
   "metadata": {},
   "outputs": [
    {
     "data": {
      "text/html": [
       "<div>\n",
       "<style scoped>\n",
       "    .dataframe tbody tr th:only-of-type {\n",
       "        vertical-align: middle;\n",
       "    }\n",
       "\n",
       "    .dataframe tbody tr th {\n",
       "        vertical-align: top;\n",
       "    }\n",
       "\n",
       "    .dataframe thead th {\n",
       "        text-align: right;\n",
       "    }\n",
       "</style>\n",
       "<table border=\"1\" class=\"dataframe\">\n",
       "  <thead>\n",
       "    <tr style=\"text-align: right;\">\n",
       "      <th></th>\n",
       "      <th>param_C</th>\n",
       "      <th>param_kernel</th>\n",
       "      <th>mean_test_score</th>\n",
       "    </tr>\n",
       "  </thead>\n",
       "  <tbody>\n",
       "    <tr>\n",
       "      <th>0</th>\n",
       "      <td>1</td>\n",
       "      <td>rbf</td>\n",
       "      <td>0.892015</td>\n",
       "    </tr>\n",
       "    <tr>\n",
       "      <th>1</th>\n",
       "      <td>1</td>\n",
       "      <td>linear</td>\n",
       "      <td>0.894946</td>\n",
       "    </tr>\n",
       "    <tr>\n",
       "      <th>2</th>\n",
       "      <td>10</td>\n",
       "      <td>rbf</td>\n",
       "      <td>0.896471</td>\n",
       "    </tr>\n",
       "    <tr>\n",
       "      <th>3</th>\n",
       "      <td>10</td>\n",
       "      <td>linear</td>\n",
       "      <td>0.894946</td>\n",
       "    </tr>\n",
       "    <tr>\n",
       "      <th>4</th>\n",
       "      <td>20</td>\n",
       "      <td>rbf</td>\n",
       "      <td>0.896460</td>\n",
       "    </tr>\n",
       "    <tr>\n",
       "      <th>5</th>\n",
       "      <td>20</td>\n",
       "      <td>linear</td>\n",
       "      <td>0.894946</td>\n",
       "    </tr>\n",
       "  </tbody>\n",
       "</table>\n",
       "</div>"
      ],
      "text/plain": [
       "  param_C param_kernel  mean_test_score\n",
       "0       1          rbf         0.892015\n",
       "1       1       linear         0.894946\n",
       "2      10          rbf         0.896471\n",
       "3      10       linear         0.894946\n",
       "4      20          rbf         0.896460\n",
       "5      20       linear         0.894946"
      ]
     },
     "execution_count": 1107,
     "metadata": {},
     "output_type": "execute_result"
    }
   ],
   "source": [
    "res[ ['param_C', 'param_kernel', 'mean_test_score'] ]"
   ]
  },
  {
   "cell_type": "code",
   "execution_count": 1108,
   "id": "f2f0301b",
   "metadata": {},
   "outputs": [
    {
     "data": {
      "text/plain": [
       "0.8964705882352941"
      ]
     },
     "execution_count": 1108,
     "metadata": {},
     "output_type": "execute_result"
    }
   ],
   "source": [
    "res['mean_test_score'].max()"
   ]
  },
  {
   "cell_type": "raw",
   "id": "41c5f275",
   "metadata": {},
   "source": [
    "0.8934989648033126  -> (500)\n",
    "0.8964705882352941   -> (1000) ** \n",
    "0.8923228876717249   -> (2000)"
   ]
  },
  {
   "cell_type": "code",
   "execution_count": null,
   "id": "09776ad0",
   "metadata": {},
   "outputs": [],
   "source": []
  },
  {
   "cell_type": "code",
   "execution_count": 1109,
   "id": "0d404b6e",
   "metadata": {},
   "outputs": [],
   "source": [
    "from sklearn.ensemble import RandomForestClassifier\n",
    "from sklearn.linear_model import LogisticRegression"
   ]
  },
  {
   "cell_type": "code",
   "execution_count": 1110,
   "id": "d45dfe97",
   "metadata": {},
   "outputs": [],
   "source": [
    "from sklearn import ensemble\n"
   ]
  },
  {
   "cell_type": "code",
   "execution_count": null,
   "id": "f3241a36",
   "metadata": {},
   "outputs": [],
   "source": []
  },
  {
   "cell_type": "raw",
   "id": "ca59b8c2",
   "metadata": {},
   "source": [
    "GradientBoostingClassifier(n_estimators=100, learning_rate=1.0, max_depth=1, random_state=0)"
   ]
  },
  {
   "cell_type": "code",
   "execution_count": 1111,
   "id": "b144ad13",
   "metadata": {},
   "outputs": [],
   "source": [
    "model_params = {\n",
    "    'svm':{\n",
    "        'model':svm.SVC(gamma='auto'),\n",
    "        'params':{\n",
    "            'C':[1, 10, 20],\n",
    "            'kernel':['rbf','linear']\n",
    "        }\n",
    "    },\n",
    "    'random_forest':{\n",
    "        'model':RandomForestClassifier(),\n",
    "        'params':{\n",
    "            'n_estimators':[1,5,10]\n",
    "        }\n",
    "    },\n",
    "    'logistic_regression':{\n",
    "        'model':LogisticRegression(solver='liblinear', multi_class='auto'),\n",
    "        'params':{\n",
    "            'C':[1,5,10]\n",
    "        }\n",
    "    },\n",
    "    'gradient_boosting':{\n",
    "        'model':ensemble.GradientBoostingClassifier(learning_rate=1.0, max_depth=3), \n",
    "        'params':{\n",
    "            'n_estimators':[100,200,300]\n",
    "        }\n",
    "    }\n",
    "    \n",
    "}"
   ]
  },
  {
   "cell_type": "code",
   "execution_count": 1112,
   "id": "2fae1188",
   "metadata": {},
   "outputs": [],
   "source": [
    "scores = []\n",
    "\n",
    "for model_name, mp in model_params.items():\n",
    "    clf = GridSearchCV(mp['model'], mp['params'], cv=5, return_train_score=False)\n",
    "    clf.fit(x_tr, y_tr)\n",
    "    scores.append({\n",
    "        'model': model_name,\n",
    "        'best_score': clf.best_score_,\n",
    "        'best_params': clf.best_params_\n",
    "    })"
   ]
  },
  {
   "cell_type": "code",
   "execution_count": 1113,
   "id": "962399b6",
   "metadata": {},
   "outputs": [
    {
     "data": {
      "text/html": [
       "<div>\n",
       "<style scoped>\n",
       "    .dataframe tbody tr th:only-of-type {\n",
       "        vertical-align: middle;\n",
       "    }\n",
       "\n",
       "    .dataframe tbody tr th {\n",
       "        vertical-align: top;\n",
       "    }\n",
       "\n",
       "    .dataframe thead th {\n",
       "        text-align: right;\n",
       "    }\n",
       "</style>\n",
       "<table border=\"1\" class=\"dataframe\">\n",
       "  <thead>\n",
       "    <tr style=\"text-align: right;\">\n",
       "      <th></th>\n",
       "      <th>model</th>\n",
       "      <th>best_score</th>\n",
       "      <th>best_params</th>\n",
       "    </tr>\n",
       "  </thead>\n",
       "  <tbody>\n",
       "    <tr>\n",
       "      <th>0</th>\n",
       "      <td>svm</td>\n",
       "      <td>0.896471</td>\n",
       "      <td>{'C': 10, 'kernel': 'rbf'}</td>\n",
       "    </tr>\n",
       "    <tr>\n",
       "      <th>1</th>\n",
       "      <td>random_forest</td>\n",
       "      <td>0.886111</td>\n",
       "      <td>{'n_estimators': 5}</td>\n",
       "    </tr>\n",
       "    <tr>\n",
       "      <th>2</th>\n",
       "      <td>logistic_regression</td>\n",
       "      <td>0.884619</td>\n",
       "      <td>{'C': 5}</td>\n",
       "    </tr>\n",
       "    <tr>\n",
       "      <th>3</th>\n",
       "      <td>gradient_boosting</td>\n",
       "      <td>0.889063</td>\n",
       "      <td>{'n_estimators': 300}</td>\n",
       "    </tr>\n",
       "  </tbody>\n",
       "</table>\n",
       "</div>"
      ],
      "text/plain": [
       "                 model  best_score                 best_params\n",
       "0                  svm    0.896471  {'C': 10, 'kernel': 'rbf'}\n",
       "1        random_forest    0.886111         {'n_estimators': 5}\n",
       "2  logistic_regression    0.884619                    {'C': 5}\n",
       "3    gradient_boosting    0.889063       {'n_estimators': 300}"
      ]
     },
     "execution_count": 1113,
     "metadata": {},
     "output_type": "execute_result"
    }
   ],
   "source": [
    "df = pd.DataFrame(scores, columns=['model', 'best_score', 'best_params'])\n",
    "df"
   ]
  },
  {
   "cell_type": "code",
   "execution_count": null,
   "id": "681a0850",
   "metadata": {},
   "outputs": [],
   "source": []
  }
 ],
 "metadata": {
  "kernelspec": {
   "display_name": "Python 3",
   "language": "python",
   "name": "python3"
  },
  "language_info": {
   "codemirror_mode": {
    "name": "ipython",
    "version": 3
   },
   "file_extension": ".py",
   "mimetype": "text/x-python",
   "name": "python",
   "nbconvert_exporter": "python",
   "pygments_lexer": "ipython3",
   "version": "3.8.8"
  }
 },
 "nbformat": 4,
 "nbformat_minor": 5
}
